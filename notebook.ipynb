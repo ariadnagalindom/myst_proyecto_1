{
 "cells": [
  {
   "cell_type": "markdown",
   "metadata": {},
   "source": [
    "<center> <img src=\"http://oci02.img.iteso.mx/identidad_de_instancia_2018/ITESO/Logos%20ITESO/Logo-ITESO-Principal.jpg\" align=\"center\" width=\"960\" height=\"480\"/> </center>"
   ]
  },
  {
   "cell_type": "markdown",
   "metadata": {},
   "source": [
    "<center><font color=#555555><font size=6> MAF1731 - Microstructure and Trading Systems </font> <br> <br>\n",
    "    \n",
    "<center><font color=#555555><font size=5> B.Eng Financial Engineering </font> <br> <br> <br> <br>\n",
    "\n",
    "<center><font color=#555555><font size=6> I.F. Ariadna Desirée Galindo Marín \n",
    " \n",
    " I.F. Francisco Javier Barragán Garcia \n",
    "\n",
    " I. F. Bruno Isaac Pimentel Vargas </font> <br> <br>\n",
    "   \n",
    "<center> <font color= #555555> <font size = 4> Nov 2021 </a> | <font color= #555555> <font size = 4> Repository: <a href='https://github.com/ariadnagalindom/myst_proyecto_1'>Link</a></font>"
   ]
  },
  {
   "cell_type": "markdown",
   "metadata": {},
   "source": [
    "<hr style=\"border:0.02in solid gray\"> </hr>"
   ]
  },
  {
   "cell_type": "markdown",
   "metadata": {},
   "source": [
    "<center> <font color= #555555> <font size = 6> Proyecto Final  </font> <br> <br> <font color= #555555> <font size = 5> Análisis Fundamental   </font>"
   ]
  },
  {
   "cell_type": "markdown",
   "metadata": {},
   "source": [
    "<hr style=\"border:0.02in solid gray\"> </hr>"
   ]
  },
  {
   "cell_type": "markdown",
   "metadata": {},
   "source": [
    "<br>"
   ]
  },
  {
   "cell_type": "markdown",
   "metadata": {},
   "source": [
    "<font color= #555555> <font size = 4> Abstract </font>"
   ]
  },
  {
   "cell_type": "markdown",
   "metadata": {},
   "source": [
    "The market microstructure is the study of financial markets and how they can operate, primarily focuses on the structure of exchanges and trading venues, the price discovery process, determinants of spreads, and quotes, intraday trading behaviors, and transaction costs.  Market microstructure continues to be one of the fastest growing fields of financial research due to the rapid development of algorithmic and electronic trading. In the following project it will be resumed all the techniques learned in the class with a fundamental analysis of an indicator. "
   ]
  },
  {
   "cell_type": "markdown",
   "metadata": {},
   "source": [
    "<br>"
   ]
  },
  {
   "cell_type": "markdown",
   "metadata": {},
   "source": [
    "# <font color= #6B6B6B> <font size = 6> 1. Introduction </font>"
   ]
  },
  {
   "cell_type": "markdown",
   "metadata": {},
   "source": [
    "<hr style=\"border:0.02in solid gray\"> </hr>"
   ]
  },
  {
   "cell_type": "markdown",
   "metadata": {},
   "source": [
    "This is an introduction, normally, it is done at the very end, when all the other content in the notebook is completed but just before the abstract (which is short version of the introduction) ... "
   ]
  },
  {
   "cell_type": "markdown",
   "metadata": {},
   "source": [
    "<br>"
   ]
  },
  {
   "cell_type": "markdown",
   "metadata": {},
   "source": [
    "# <font color= #6B6B6B> 2. Install/Load Packages and Depedencies </font>"
   ]
  },
  {
   "cell_type": "markdown",
   "metadata": {},
   "source": [
    "<hr style=\"border:0.02in solid gray\"> </hr>"
   ]
  },
  {
   "cell_type": "markdown",
   "metadata": {},
   "source": [
    "<br>"
   ]
  },
  {
   "cell_type": "markdown",
   "metadata": {},
   "source": [
    "## <font color= #6B6B6B> 2.2 Python Packages </font> <font color= #555555>"
   ]
  },
  {
   "cell_type": "markdown",
   "metadata": {},
   "source": [
    "In order to run this notebook, it is necessary to have installed and/or have the _requirements.txt_ file with the following: "
   ]
  },
  {
   "cell_type": "markdown",
   "metadata": {},
   "source": [
    "- pandas>=1.1.1 \n",
    "- numpy>=1.19.1\n",
    "- jupyter>=1.0.0\n",
    "- _Add any other here_"
   ]
  },
  {
   "cell_type": "markdown",
   "metadata": {},
   "source": [
    "## <font color= #6B6B6B> 2.3 Files Dependencies </font> <font color= #555555>"
   ]
  },
  {
   "cell_type": "markdown",
   "metadata": {},
   "source": [
    "The following are the file dependencies that are needed to run this notebook:"
   ]
  },
  {
   "cell_type": "markdown",
   "metadata": {},
   "source": [
    "- files/precios.csv : Precios históricos\n",
    "- API Weekly Crude Oil Stock - United States.txt : Datos históricos del índice elegido"
   ]
  },
  {
   "cell_type": "markdown",
   "metadata": {},
   "source": [
    "## <font color= #6E6E6E> 2.3 Install Packages</font>"
   ]
  },
  {
   "cell_type": "markdown",
   "metadata": {},
   "source": [
    "<font color= red> DELETE THIS CELL FROM YOUR FILE</font>\n",
    "\n",
    "- A \"cell magic command\" to hide output of the cell:\n",
    "> %%capture\n",
    "\n",
    "- Not recommended:\n",
    "> !pip install -r requirements.txt \n",
    "\n",
    "- Use these two lines instead:\n",
    "\n",
    "> import sys\n",
    "<br>\n",
    "> !{sys.executable} -m pip install -r requirements.txt"
   ]
  },
  {
   "cell_type": "code",
   "execution_count": 1,
   "metadata": {},
   "outputs": [],
   "source": [
    "%%capture\n",
    "\n",
    "# Install all the pip packages in the requirements.txt\n",
    "import sys\n",
    "!{sys.executable} -m pip install -r requirements.txt"
   ]
  },
  {
   "cell_type": "markdown",
   "metadata": {},
   "source": [
    "<br>"
   ]
  },
  {
   "cell_type": "markdown",
   "metadata": {},
   "source": [
    "# <font color= #6B6B6B> 3. Data Description </font>"
   ]
  },
  {
   "cell_type": "markdown",
   "metadata": {},
   "source": [
    "<hr style=\"border:0.02in solid gray\"> </hr>"
   ]
  },
  {
   "cell_type": "code",
   "execution_count": 60,
   "metadata": {},
   "outputs": [],
   "source": [
    "import data as d\n",
    "import functions as f\n",
    "import visualizations as v\n",
    "import main as m\n",
    "import importlib\n",
    "import pandas as pd \n",
    "import numpy as np\n",
    "\n",
    "import matplotlib.pyplot as plt"
   ]
  },
  {
   "cell_type": "markdown",
   "metadata": {},
   "source": [
    "** Insertar descripción del indicador elegido **"
   ]
  },
  {
   "cell_type": "code",
   "execution_count": 2,
   "metadata": {},
   "outputs": [
    {
     "name": "stdout",
     "output_type": "stream",
     "text": [
      "   index            DateTime  Actual  Consensus  Previous\n",
      "0    110 2018-01-03 21:30:00  -4.992     -6.000    -6.000\n",
      "1    109 2018-01-09 21:30:00 -11.190     -4.992    -4.992\n",
      "2    108 2018-01-17 21:30:00  -5.121    -11.190   -11.190\n",
      "3    107 2018-01-23 21:30:00   4.755     -5.121    -5.121\n",
      "4    106 2018-01-30 21:30:00   3.229      4.755     4.755\n",
      "     index            DateTime  Actual  Consensus  Previous\n",
      "106      4 2020-01-14 21:30:00    1.10     -5.945    -5.945\n",
      "107      3 2020-01-22 21:30:00    1.60      1.100     1.100\n",
      "108      2 2020-01-28 21:30:00   -4.27      1.600     1.600\n",
      "109      1 2020-02-04 21:30:00    4.18     -4.270    -4.270\n",
      "110      0 2020-02-11 21:30:00    6.00      4.180     4.180\n"
     ]
    }
   ],
   "source": [
    "# índice\n",
    "print(d.indice.head(5))\n",
    "print(d.indice.tail(5))"
   ]
  },
  {
   "cell_type": "markdown",
   "metadata": {},
   "source": [
    "** Insertar las divisas elegidas **"
   ]
  },
  {
   "cell_type": "code",
   "execution_count": 3,
   "metadata": {},
   "outputs": [
    {
     "name": "stderr",
     "output_type": "stream",
     "text": [
      "C:\\Users\\ariad\\AppData\\Local\\Packages\\PythonSoftwareFoundation.Python.3.9_qbz5n2kfra8p0\\LocalCache\\local-packages\\Python39\\site-packages\\pandas\\core\\indexing.py:670: SettingWithCopyWarning: \n",
      "A value is trying to be set on a copy of a slice from a DataFrame\n",
      "\n",
      "See the caveats in the documentation: https://pandas.pydata.org/pandas-docs/stable/user_guide/indexing.html#returning-a-view-versus-a-copy\n",
      "  iloc._setitem_with_indexer(indexer, value)\n"
     ]
    },
    {
     "name": "stdout",
     "output_type": "stream",
     "text": [
      "                 time     open     high      low    close  tick_volume  \\\n",
      "0 2018-01-02 00:00:00  1.20087  1.20095  1.20007  1.20090          705   \n",
      "1 2018-01-02 00:15:00  1.20090  1.20094  1.20034  1.20058         1083   \n",
      "2 2018-01-02 00:30:00  1.20059  1.20160  1.20058  1.20135          969   \n",
      "3 2018-01-02 00:45:00  1.20135  1.20141  1.20125  1.20130         1234   \n",
      "4 2018-01-02 01:00:00  1.20130  1.20139  1.20019  1.20137         4787   \n",
      "\n",
      "   spread  real_volume  \n",
      "0      16    155200000  \n",
      "1      19    216600000  \n",
      "2      18    193800000  \n",
      "3      20    246800000  \n",
      "4      18    957400000  \n",
      "                     time     open     high      low    close  tick_volume  \\\n",
      "53583 2020-02-28 22:45:00  1.10445  1.10446  1.10328  1.10371        12727   \n",
      "53584 2020-02-28 23:00:00  1.10372  1.10424  1.10232  1.10279         8632   \n",
      "53585 2020-02-28 23:15:00  1.10279  1.10318  1.10261  1.10305         3709   \n",
      "53586 2020-02-28 23:30:00  1.10305  1.10394  1.10302  1.10309         4400   \n",
      "53587 2020-02-28 23:45:00  1.10309  1.10320  1.10233  1.10262         4538   \n",
      "\n",
      "       spread  real_volume  \n",
      "53583      15   1909050000  \n",
      "53584      15   1294800000  \n",
      "53585      15    556350000  \n",
      "53586      15    660000000  \n",
      "53587      13    680700000  \n"
     ]
    }
   ],
   "source": [
    "# divisa \n",
    "importlib.reload(d)\n",
    "divisa = d.historico('EURUSD')\n",
    "print(divisa.head(5))\n",
    "print(divisa.tail(5))"
   ]
  },
  {
   "cell_type": "markdown",
   "metadata": {},
   "source": [
    "Una vez que tenemos los datos necesarios vamos a proceder a clasificarlos escenarios usando la siguiente tabla."
   ]
  },
  {
   "cell_type": "code",
   "execution_count": 17,
   "metadata": {},
   "outputs": [
    {
     "data": {
      "text/html": [
       "<div>\n",
       "<style scoped>\n",
       "    .dataframe tbody tr th:only-of-type {\n",
       "        vertical-align: middle;\n",
       "    }\n",
       "\n",
       "    .dataframe tbody tr th {\n",
       "        vertical-align: top;\n",
       "    }\n",
       "\n",
       "    .dataframe thead th {\n",
       "        text-align: right;\n",
       "    }\n",
       "</style>\n",
       "<table border=\"1\" class=\"dataframe\">\n",
       "  <thead>\n",
       "    <tr style=\"text-align: right;\">\n",
       "      <th></th>\n",
       "      <th>Escenario</th>\n",
       "      <th>Regla</th>\n",
       "    </tr>\n",
       "  </thead>\n",
       "  <tbody>\n",
       "    <tr>\n",
       "      <th>0</th>\n",
       "      <td>A</td>\n",
       "      <td>Actual&gt;=Consensus&gt;=Previous</td>\n",
       "    </tr>\n",
       "    <tr>\n",
       "      <th>1</th>\n",
       "      <td>B</td>\n",
       "      <td>Actual&gt;=Consensus&lt;Previous</td>\n",
       "    </tr>\n",
       "    <tr>\n",
       "      <th>2</th>\n",
       "      <td>C</td>\n",
       "      <td>Actual&lt;Consensus&gt;=Previous</td>\n",
       "    </tr>\n",
       "    <tr>\n",
       "      <th>3</th>\n",
       "      <td>D</td>\n",
       "      <td>Actual&lt;Consensus&lt;Previous</td>\n",
       "    </tr>\n",
       "  </tbody>\n",
       "</table>\n",
       "</div>"
      ],
      "text/plain": [
       "  Escenario                        Regla\n",
       "0         A  Actual>=Consensus>=Previous\n",
       "1         B   Actual>=Consensus<Previous\n",
       "2         C   Actual<Consensus>=Previous\n",
       "3         D    Actual<Consensus<Previous"
      ]
     },
     "execution_count": 17,
     "metadata": {},
     "output_type": "execute_result"
    }
   ],
   "source": [
    "m.escenarios"
   ]
  },
  {
   "cell_type": "code",
   "execution_count": 4,
   "metadata": {},
   "outputs": [
    {
     "name": "stderr",
     "output_type": "stream",
     "text": [
      "C:\\Users\\ariad\\AppData\\Local\\Packages\\PythonSoftwareFoundation.Python.3.9_qbz5n2kfra8p0\\LocalCache\\local-packages\\Python39\\site-packages\\pandas\\core\\indexing.py:670: SettingWithCopyWarning: \n",
      "A value is trying to be set on a copy of a slice from a DataFrame\n",
      "\n",
      "See the caveats in the documentation: https://pandas.pydata.org/pandas-docs/stable/user_guide/indexing.html#returning-a-view-versus-a-copy\n",
      "  iloc._setitem_with_indexer(indexer, value)\n",
      "c:\\Users\\ariad\\OneDrive\\Documentos\\GitHub\\myst_proyecto_1\\functions.py:34: SettingWithCopyWarning: \n",
      "A value is trying to be set on a copy of a slice from a DataFrame\n",
      "\n",
      "See the caveats in the documentation: https://pandas.pydata.org/pandas-docs/stable/user_guide/indexing.html#returning-a-view-versus-a-copy\n",
      "  df_indice.Operacion[i] = 'Sell'\n",
      "c:\\Users\\ariad\\OneDrive\\Documentos\\GitHub\\myst_proyecto_1\\functions.py:36: SettingWithCopyWarning: \n",
      "A value is trying to be set on a copy of a slice from a DataFrame\n",
      "\n",
      "See the caveats in the documentation: https://pandas.pydata.org/pandas-docs/stable/user_guide/indexing.html#returning-a-view-versus-a-copy\n",
      "  df_indice.Operacion[i] = 'Buy'\n"
     ]
    },
    {
     "data": {
      "text/html": [
       "<div>\n",
       "<style scoped>\n",
       "    .dataframe tbody tr th:only-of-type {\n",
       "        vertical-align: middle;\n",
       "    }\n",
       "\n",
       "    .dataframe tbody tr th {\n",
       "        vertical-align: top;\n",
       "    }\n",
       "\n",
       "    .dataframe thead th {\n",
       "        text-align: right;\n",
       "    }\n",
       "</style>\n",
       "<table border=\"1\" class=\"dataframe\">\n",
       "  <thead>\n",
       "    <tr style=\"text-align: right;\">\n",
       "      <th></th>\n",
       "      <th>DateTime</th>\n",
       "      <th>Actual</th>\n",
       "      <th>Consensus</th>\n",
       "      <th>Previous</th>\n",
       "      <th>Escenario</th>\n",
       "      <th>Operacion</th>\n",
       "    </tr>\n",
       "  </thead>\n",
       "  <tbody>\n",
       "    <tr>\n",
       "      <th>0</th>\n",
       "      <td>2018-01-03 21:30:00</td>\n",
       "      <td>-4.992</td>\n",
       "      <td>-6.000</td>\n",
       "      <td>-6.000</td>\n",
       "      <td>A</td>\n",
       "      <td>Sell</td>\n",
       "    </tr>\n",
       "    <tr>\n",
       "      <th>1</th>\n",
       "      <td>2018-01-09 21:30:00</td>\n",
       "      <td>-11.190</td>\n",
       "      <td>-4.992</td>\n",
       "      <td>-4.992</td>\n",
       "      <td>C</td>\n",
       "      <td>Buy</td>\n",
       "    </tr>\n",
       "    <tr>\n",
       "      <th>2</th>\n",
       "      <td>2018-01-17 21:30:00</td>\n",
       "      <td>-5.121</td>\n",
       "      <td>-11.190</td>\n",
       "      <td>-11.190</td>\n",
       "      <td>A</td>\n",
       "      <td>Sell</td>\n",
       "    </tr>\n",
       "    <tr>\n",
       "      <th>3</th>\n",
       "      <td>2018-01-23 21:30:00</td>\n",
       "      <td>4.755</td>\n",
       "      <td>-5.121</td>\n",
       "      <td>-5.121</td>\n",
       "      <td>A</td>\n",
       "      <td>Sell</td>\n",
       "    </tr>\n",
       "    <tr>\n",
       "      <th>4</th>\n",
       "      <td>2018-01-30 21:30:00</td>\n",
       "      <td>3.229</td>\n",
       "      <td>4.755</td>\n",
       "      <td>4.755</td>\n",
       "      <td>C</td>\n",
       "      <td>Buy</td>\n",
       "    </tr>\n",
       "    <tr>\n",
       "      <th>5</th>\n",
       "      <td>2018-02-06 21:30:00</td>\n",
       "      <td>-1.050</td>\n",
       "      <td>3.229</td>\n",
       "      <td>3.229</td>\n",
       "      <td>C</td>\n",
       "      <td>Buy</td>\n",
       "    </tr>\n",
       "    <tr>\n",
       "      <th>6</th>\n",
       "      <td>2018-02-13 21:30:00</td>\n",
       "      <td>3.940</td>\n",
       "      <td>-1.050</td>\n",
       "      <td>-1.050</td>\n",
       "      <td>A</td>\n",
       "      <td>Sell</td>\n",
       "    </tr>\n",
       "  </tbody>\n",
       "</table>\n",
       "</div>"
      ],
      "text/plain": [
       "             DateTime  Actual  Consensus  Previous Escenario Operacion\n",
       "0 2018-01-03 21:30:00  -4.992     -6.000    -6.000         A      Sell\n",
       "1 2018-01-09 21:30:00 -11.190     -4.992    -4.992         C       Buy\n",
       "2 2018-01-17 21:30:00  -5.121    -11.190   -11.190         A      Sell\n",
       "3 2018-01-23 21:30:00   4.755     -5.121    -5.121         A      Sell\n",
       "4 2018-01-30 21:30:00   3.229      4.755     4.755         C       Buy\n",
       "5 2018-02-06 21:30:00  -1.050      3.229     3.229         C       Buy\n",
       "6 2018-02-13 21:30:00   3.940     -1.050    -1.050         A      Sell"
      ]
     },
     "execution_count": 4,
     "metadata": {},
     "output_type": "execute_result"
    }
   ],
   "source": [
    "df_index = f.clas_esc(d.indice)\n",
    "df_index.head(7)"
   ]
  },
  {
   "cell_type": "markdown",
   "metadata": {},
   "source": [
    "**Validaciones**"
   ]
  },
  {
   "cell_type": "code",
   "execution_count": 69,
   "metadata": {},
   "outputs": [
    {
     "data": {
      "text/html": [
       "<div>\n",
       "<style scoped>\n",
       "    .dataframe tbody tr th:only-of-type {\n",
       "        vertical-align: middle;\n",
       "    }\n",
       "\n",
       "    .dataframe tbody tr th {\n",
       "        vertical-align: top;\n",
       "    }\n",
       "\n",
       "    .dataframe thead th {\n",
       "        text-align: right;\n",
       "    }\n",
       "</style>\n",
       "<table border=\"1\" class=\"dataframe\">\n",
       "  <thead>\n",
       "    <tr style=\"text-align: right;\">\n",
       "      <th></th>\n",
       "      <th>DateTime</th>\n",
       "      <th>Actual</th>\n",
       "      <th>Consensus</th>\n",
       "      <th>Previous</th>\n",
       "    </tr>\n",
       "  </thead>\n",
       "  <tbody>\n",
       "    <tr>\n",
       "      <th>7</th>\n",
       "      <td>2019-12-24 21:30:00</td>\n",
       "      <td>-7.9</td>\n",
       "      <td>4.7</td>\n",
       "      <td>4.7</td>\n",
       "    </tr>\n",
       "  </tbody>\n",
       "</table>\n",
       "</div>"
      ],
      "text/plain": [
       "             DateTime  Actual  Consensus  Previous\n",
       "7 2019-12-24 21:30:00    -7.9        4.7       4.7"
      ]
     },
     "execution_count": 69,
     "metadata": {},
     "output_type": "execute_result"
    }
   ],
   "source": [
    "v1 = d.indice.Actual == -7.900\n",
    "v1 = d.indice[v1]\n",
    "v1"
   ]
  },
  {
   "cell_type": "markdown",
   "metadata": {},
   "source": [
    "<img src=\"files/validacion_1.png\" style=\"width:1000px;\">\n",
    "\n",
    "Para este día el indicador bajo mucho más de lo que se esperaba."
   ]
  },
  {
   "cell_type": "code",
   "execution_count": null,
   "metadata": {},
   "outputs": [],
   "source": []
  },
  {
   "cell_type": "code",
   "execution_count": null,
   "metadata": {},
   "outputs": [],
   "source": [
    "# parámetros de la operación \n",
    "#sentido\n",
    "fecha = '2019-12-24'\n",
    "tipo = 'compra'\n",
    "inicial, final, p_max, p_min = 1.1089, 1.1087, 1.1095, 1.1069\n",
    "#volumen\n",
    "#TP\n",
    "#SL"
   ]
  },
  {
   "cell_type": "code",
   "execution_count": 73,
   "metadata": {},
   "outputs": [
    {
     "data": {
      "text/html": [
       "<div>\n",
       "<style scoped>\n",
       "    .dataframe tbody tr th:only-of-type {\n",
       "        vertical-align: middle;\n",
       "    }\n",
       "\n",
       "    .dataframe tbody tr th {\n",
       "        vertical-align: top;\n",
       "    }\n",
       "\n",
       "    .dataframe thead th {\n",
       "        text-align: right;\n",
       "    }\n",
       "</style>\n",
       "<table border=\"1\" class=\"dataframe\">\n",
       "  <thead>\n",
       "    <tr style=\"text-align: right;\">\n",
       "      <th></th>\n",
       "      <th>DateTime</th>\n",
       "      <th>Actual</th>\n",
       "      <th>Consensus</th>\n",
       "      <th>Previous</th>\n",
       "    </tr>\n",
       "  </thead>\n",
       "  <tbody>\n",
       "    <tr>\n",
       "      <th>0</th>\n",
       "      <td>2020-02-11 21:30:00</td>\n",
       "      <td>6.0</td>\n",
       "      <td>4.18</td>\n",
       "      <td>4.18</td>\n",
       "    </tr>\n",
       "  </tbody>\n",
       "</table>\n",
       "</div>"
      ],
      "text/plain": [
       "             DateTime  Actual  Consensus  Previous\n",
       "0 2020-02-11 21:30:00     6.0       4.18      4.18"
      ]
     },
     "execution_count": 73,
     "metadata": {},
     "output_type": "execute_result"
    }
   ],
   "source": [
    "v2 = d.indice.Actual == 6.000\n",
    "v2 = d.indice[v2]\n",
    "v2"
   ]
  },
  {
   "cell_type": "markdown",
   "metadata": {},
   "source": [
    "<img src=\"files/validacion_2.png\" style=\"width:1000px;\">\n",
    "\n",
    "Para este día el indicador superó las expectativas"
   ]
  },
  {
   "cell_type": "code",
   "execution_count": 78,
   "metadata": {},
   "outputs": [
    {
     "data": {
      "text/html": [
       "<div>\n",
       "<style scoped>\n",
       "    .dataframe tbody tr th:only-of-type {\n",
       "        vertical-align: middle;\n",
       "    }\n",
       "\n",
       "    .dataframe tbody tr th {\n",
       "        vertical-align: top;\n",
       "    }\n",
       "\n",
       "    .dataframe thead th {\n",
       "        text-align: right;\n",
       "    }\n",
       "</style>\n",
       "<table border=\"1\" class=\"dataframe\">\n",
       "  <thead>\n",
       "    <tr style=\"text-align: right;\">\n",
       "      <th></th>\n",
       "      <th>DateTime</th>\n",
       "      <th>Actual</th>\n",
       "      <th>Consensus</th>\n",
       "      <th>Previous</th>\n",
       "    </tr>\n",
       "  </thead>\n",
       "  <tbody>\n",
       "    <tr>\n",
       "      <th>24</th>\n",
       "      <td>2019-08-27 20:30:00</td>\n",
       "      <td>-11.1</td>\n",
       "      <td>-3.5</td>\n",
       "      <td>-3.5</td>\n",
       "    </tr>\n",
       "  </tbody>\n",
       "</table>\n",
       "</div>"
      ],
      "text/plain": [
       "              DateTime  Actual  Consensus  Previous\n",
       "24 2019-08-27 20:30:00   -11.1       -3.5      -3.5"
      ]
     },
     "execution_count": 78,
     "metadata": {},
     "output_type": "execute_result"
    }
   ],
   "source": [
    "v3 = d.indice.Actual == -11.100\n",
    "v3 = d.indice[v3]\n",
    "v3"
   ]
  },
  {
   "cell_type": "markdown",
   "metadata": {},
   "source": [
    "<img src=\"files/validacion_3.png\" style=\"width:1000px;\">\n",
    "\n",
    "Para este día el indicador bajo mucho más de lo que se esperaba."
   ]
  },
  {
   "cell_type": "code",
   "execution_count": 80,
   "metadata": {},
   "outputs": [
    {
     "data": {
      "text/html": [
       "<div>\n",
       "<style scoped>\n",
       "    .dataframe tbody tr th:only-of-type {\n",
       "        vertical-align: middle;\n",
       "    }\n",
       "\n",
       "    .dataframe tbody tr th {\n",
       "        vertical-align: top;\n",
       "    }\n",
       "\n",
       "    .dataframe thead th {\n",
       "        text-align: right;\n",
       "    }\n",
       "</style>\n",
       "<table border=\"1\" class=\"dataframe\">\n",
       "  <thead>\n",
       "    <tr style=\"text-align: right;\">\n",
       "      <th></th>\n",
       "      <th>DateTime</th>\n",
       "      <th>Actual</th>\n",
       "      <th>Consensus</th>\n",
       "      <th>Previous</th>\n",
       "    </tr>\n",
       "  </thead>\n",
       "  <tbody>\n",
       "    <tr>\n",
       "      <th>5</th>\n",
       "      <td>2020-01-07 21:30:00</td>\n",
       "      <td>-5.945</td>\n",
       "      <td>-7.8</td>\n",
       "      <td>-7.8</td>\n",
       "    </tr>\n",
       "  </tbody>\n",
       "</table>\n",
       "</div>"
      ],
      "text/plain": [
       "             DateTime  Actual  Consensus  Previous\n",
       "5 2020-01-07 21:30:00  -5.945       -7.8      -7.8"
      ]
     },
     "execution_count": 80,
     "metadata": {},
     "output_type": "execute_result"
    }
   ],
   "source": [
    "v4 = d.indice.Actual == -5.945\n",
    "v4 = d.indice[v4]\n",
    "v4"
   ]
  },
  {
   "cell_type": "markdown",
   "metadata": {},
   "source": [
    "<img src=\"files/validacion_4.png\" style=\"width:1000px;\">\n",
    "\n",
    "Este día el indicador bajo menos de lo esperado."
   ]
  },
  {
   "cell_type": "code",
   "execution_count": 85,
   "metadata": {},
   "outputs": [
    {
     "data": {
      "text/html": [
       "<div>\n",
       "<style scoped>\n",
       "    .dataframe tbody tr th:only-of-type {\n",
       "        vertical-align: middle;\n",
       "    }\n",
       "\n",
       "    .dataframe tbody tr th {\n",
       "        vertical-align: top;\n",
       "    }\n",
       "\n",
       "    .dataframe thead th {\n",
       "        text-align: right;\n",
       "    }\n",
       "</style>\n",
       "<table border=\"1\" class=\"dataframe\">\n",
       "  <thead>\n",
       "    <tr style=\"text-align: right;\">\n",
       "      <th></th>\n",
       "      <th>DateTime</th>\n",
       "      <th>Actual</th>\n",
       "      <th>Consensus</th>\n",
       "      <th>Previous</th>\n",
       "    </tr>\n",
       "  </thead>\n",
       "  <tbody>\n",
       "    <tr>\n",
       "      <th>35</th>\n",
       "      <td>2019-06-11 20:30:00</td>\n",
       "      <td>4.85</td>\n",
       "      <td>3.545</td>\n",
       "      <td>3.545</td>\n",
       "    </tr>\n",
       "  </tbody>\n",
       "</table>\n",
       "</div>"
      ],
      "text/plain": [
       "              DateTime  Actual  Consensus  Previous\n",
       "35 2019-06-11 20:30:00    4.85      3.545     3.545"
      ]
     },
     "execution_count": 85,
     "metadata": {},
     "output_type": "execute_result"
    }
   ],
   "source": [
    "v5 = d.indice.Actual == 4.850\n",
    "v5 = d.indice[v5]\n",
    "v5"
   ]
  },
  {
   "cell_type": "markdown",
   "metadata": {},
   "source": [
    "<img src=\"files/validacion_5.png\" style=\"width:1000px;\">\n",
    "\n",
    "Este día el indicador subió más de lo esperado."
   ]
  },
  {
   "cell_type": "markdown",
   "metadata": {},
   "source": [
    "### Aspectos estadísticos del indicador\n",
    "\n",
    "Serie de tiempo del indicador Actual"
   ]
  },
  {
   "cell_type": "code",
   "execution_count": 19,
   "metadata": {},
   "outputs": [
    {
     "data": {
      "application/vnd.plotly.v1+json": {
       "config": {
        "plotlyServerURL": "https://plot.ly"
       },
       "data": [
        {
         "hovertemplate": "DateTime=%{x}<br>Actual=%{y}<extra></extra>",
         "legendgroup": "",
         "line": {
          "color": "#636efa",
          "dash": "solid"
         },
         "mode": "lines",
         "name": "",
         "orientation": "v",
         "showlegend": false,
         "type": "scatter",
         "x": [
          "2020-02-11T21:30:00",
          "2020-02-04T21:30:00",
          "2020-01-28T21:30:00",
          "2020-01-22T21:30:00",
          "2020-01-14T21:30:00",
          "2020-01-07T21:30:00",
          "2019-12-31T21:30:00",
          "2019-12-24T21:30:00",
          "2019-12-17T21:30:00",
          "2019-12-10T21:30:00",
          "2019-12-03T21:30:00",
          "2019-11-26T21:30:00",
          "2019-11-19T21:30:00",
          "2019-11-13T21:30:00",
          "2019-11-05T21:30:00",
          "2019-10-29T20:30:00",
          "2019-10-22T20:30:00",
          "2019-10-16T20:30:00",
          "2019-10-08T20:30:00",
          "2019-10-01T20:30:00",
          "2019-09-24T20:30:00",
          "2019-09-17T21:30:00",
          "2019-09-10T20:30:00",
          "2019-09-04T20:30:00",
          "2019-08-27T20:30:00",
          "2019-08-20T21:30:00",
          "2019-08-13T20:30:00",
          "2019-08-06T20:30:00",
          "2019-07-30T20:30:00",
          "2019-07-23T20:30:00",
          "2019-07-16T20:30:00",
          "2019-07-09T20:30:00",
          "2019-07-02T20:30:00",
          "2019-06-25T20:30:00",
          "2019-06-18T20:30:00",
          "2019-06-11T20:30:00",
          "2019-06-04T20:30:00",
          "2019-05-29T20:30:00",
          "2019-05-21T21:30:00",
          "2019-05-14T20:30:00",
          "2019-05-07T20:30:00",
          "2019-04-30T20:30:00",
          "2019-04-23T20:30:00",
          "2019-04-16T20:30:00",
          "2019-04-09T20:30:00",
          "2019-04-02T20:30:00",
          "2019-03-26T20:30:00",
          "2019-03-19T20:30:00",
          "2019-03-12T20:30:00",
          "2019-03-05T21:30:00",
          "2019-02-26T21:30:00",
          "2019-02-20T21:30:00",
          "2019-02-12T21:30:00",
          "2019-02-05T21:30:00",
          "2019-01-29T21:30:00",
          "2019-01-23T21:30:00",
          "2019-01-15T21:30:00",
          "2019-01-08T21:30:00",
          "2019-01-03T21:30:00"
         ],
         "xaxis": "x",
         "y": [
          6,
          4.18,
          -4.27,
          1.6,
          1.1,
          -5.945,
          -7.8,
          -7.9,
          4.7,
          1.41,
          -3.72,
          3.639,
          5.954,
          -0.5,
          4.26,
          0.5920000000000001,
          4.45,
          10.5,
          4.13,
          -5.92,
          1.4,
          0.5920000000000001,
          -7.2,
          0.401,
          -11.1,
          -3.5,
          3.7,
          -3.4,
          -6.024,
          -10.960999999999999,
          -1.401,
          -8.129,
          -5,
          -7.55,
          -0.812,
          4.85,
          3.545,
          -5.265,
          2.4,
          8.6,
          2.806,
          6.81,
          6.9,
          -3.096,
          4.091,
          2.963,
          1.9269999999999998,
          -2.133,
          -2.58,
          7.29,
          -4.2,
          1.26,
          -0.998,
          2.5140000000000002,
          2.0980000000000003,
          6.55,
          -0.56,
          -6.27,
          -4.5
         ],
         "yaxis": "y"
        }
       ],
       "layout": {
        "legend": {
         "tracegroupgap": 0
        },
        "margin": {
         "t": 60
        },
        "template": {
         "data": {
          "bar": [
           {
            "error_x": {
             "color": "#2a3f5f"
            },
            "error_y": {
             "color": "#2a3f5f"
            },
            "marker": {
             "line": {
              "color": "#E5ECF6",
              "width": 0.5
             }
            },
            "type": "bar"
           }
          ],
          "barpolar": [
           {
            "marker": {
             "line": {
              "color": "#E5ECF6",
              "width": 0.5
             }
            },
            "type": "barpolar"
           }
          ],
          "carpet": [
           {
            "aaxis": {
             "endlinecolor": "#2a3f5f",
             "gridcolor": "white",
             "linecolor": "white",
             "minorgridcolor": "white",
             "startlinecolor": "#2a3f5f"
            },
            "baxis": {
             "endlinecolor": "#2a3f5f",
             "gridcolor": "white",
             "linecolor": "white",
             "minorgridcolor": "white",
             "startlinecolor": "#2a3f5f"
            },
            "type": "carpet"
           }
          ],
          "choropleth": [
           {
            "colorbar": {
             "outlinewidth": 0,
             "ticks": ""
            },
            "type": "choropleth"
           }
          ],
          "contour": [
           {
            "colorbar": {
             "outlinewidth": 0,
             "ticks": ""
            },
            "colorscale": [
             [
              0,
              "#0d0887"
             ],
             [
              0.1111111111111111,
              "#46039f"
             ],
             [
              0.2222222222222222,
              "#7201a8"
             ],
             [
              0.3333333333333333,
              "#9c179e"
             ],
             [
              0.4444444444444444,
              "#bd3786"
             ],
             [
              0.5555555555555556,
              "#d8576b"
             ],
             [
              0.6666666666666666,
              "#ed7953"
             ],
             [
              0.7777777777777778,
              "#fb9f3a"
             ],
             [
              0.8888888888888888,
              "#fdca26"
             ],
             [
              1,
              "#f0f921"
             ]
            ],
            "type": "contour"
           }
          ],
          "contourcarpet": [
           {
            "colorbar": {
             "outlinewidth": 0,
             "ticks": ""
            },
            "type": "contourcarpet"
           }
          ],
          "heatmap": [
           {
            "colorbar": {
             "outlinewidth": 0,
             "ticks": ""
            },
            "colorscale": [
             [
              0,
              "#0d0887"
             ],
             [
              0.1111111111111111,
              "#46039f"
             ],
             [
              0.2222222222222222,
              "#7201a8"
             ],
             [
              0.3333333333333333,
              "#9c179e"
             ],
             [
              0.4444444444444444,
              "#bd3786"
             ],
             [
              0.5555555555555556,
              "#d8576b"
             ],
             [
              0.6666666666666666,
              "#ed7953"
             ],
             [
              0.7777777777777778,
              "#fb9f3a"
             ],
             [
              0.8888888888888888,
              "#fdca26"
             ],
             [
              1,
              "#f0f921"
             ]
            ],
            "type": "heatmap"
           }
          ],
          "heatmapgl": [
           {
            "colorbar": {
             "outlinewidth": 0,
             "ticks": ""
            },
            "colorscale": [
             [
              0,
              "#0d0887"
             ],
             [
              0.1111111111111111,
              "#46039f"
             ],
             [
              0.2222222222222222,
              "#7201a8"
             ],
             [
              0.3333333333333333,
              "#9c179e"
             ],
             [
              0.4444444444444444,
              "#bd3786"
             ],
             [
              0.5555555555555556,
              "#d8576b"
             ],
             [
              0.6666666666666666,
              "#ed7953"
             ],
             [
              0.7777777777777778,
              "#fb9f3a"
             ],
             [
              0.8888888888888888,
              "#fdca26"
             ],
             [
              1,
              "#f0f921"
             ]
            ],
            "type": "heatmapgl"
           }
          ],
          "histogram": [
           {
            "marker": {
             "colorbar": {
              "outlinewidth": 0,
              "ticks": ""
             }
            },
            "type": "histogram"
           }
          ],
          "histogram2d": [
           {
            "colorbar": {
             "outlinewidth": 0,
             "ticks": ""
            },
            "colorscale": [
             [
              0,
              "#0d0887"
             ],
             [
              0.1111111111111111,
              "#46039f"
             ],
             [
              0.2222222222222222,
              "#7201a8"
             ],
             [
              0.3333333333333333,
              "#9c179e"
             ],
             [
              0.4444444444444444,
              "#bd3786"
             ],
             [
              0.5555555555555556,
              "#d8576b"
             ],
             [
              0.6666666666666666,
              "#ed7953"
             ],
             [
              0.7777777777777778,
              "#fb9f3a"
             ],
             [
              0.8888888888888888,
              "#fdca26"
             ],
             [
              1,
              "#f0f921"
             ]
            ],
            "type": "histogram2d"
           }
          ],
          "histogram2dcontour": [
           {
            "colorbar": {
             "outlinewidth": 0,
             "ticks": ""
            },
            "colorscale": [
             [
              0,
              "#0d0887"
             ],
             [
              0.1111111111111111,
              "#46039f"
             ],
             [
              0.2222222222222222,
              "#7201a8"
             ],
             [
              0.3333333333333333,
              "#9c179e"
             ],
             [
              0.4444444444444444,
              "#bd3786"
             ],
             [
              0.5555555555555556,
              "#d8576b"
             ],
             [
              0.6666666666666666,
              "#ed7953"
             ],
             [
              0.7777777777777778,
              "#fb9f3a"
             ],
             [
              0.8888888888888888,
              "#fdca26"
             ],
             [
              1,
              "#f0f921"
             ]
            ],
            "type": "histogram2dcontour"
           }
          ],
          "mesh3d": [
           {
            "colorbar": {
             "outlinewidth": 0,
             "ticks": ""
            },
            "type": "mesh3d"
           }
          ],
          "parcoords": [
           {
            "line": {
             "colorbar": {
              "outlinewidth": 0,
              "ticks": ""
             }
            },
            "type": "parcoords"
           }
          ],
          "pie": [
           {
            "automargin": true,
            "type": "pie"
           }
          ],
          "scatter": [
           {
            "marker": {
             "colorbar": {
              "outlinewidth": 0,
              "ticks": ""
             }
            },
            "type": "scatter"
           }
          ],
          "scatter3d": [
           {
            "line": {
             "colorbar": {
              "outlinewidth": 0,
              "ticks": ""
             }
            },
            "marker": {
             "colorbar": {
              "outlinewidth": 0,
              "ticks": ""
             }
            },
            "type": "scatter3d"
           }
          ],
          "scattercarpet": [
           {
            "marker": {
             "colorbar": {
              "outlinewidth": 0,
              "ticks": ""
             }
            },
            "type": "scattercarpet"
           }
          ],
          "scattergeo": [
           {
            "marker": {
             "colorbar": {
              "outlinewidth": 0,
              "ticks": ""
             }
            },
            "type": "scattergeo"
           }
          ],
          "scattergl": [
           {
            "marker": {
             "colorbar": {
              "outlinewidth": 0,
              "ticks": ""
             }
            },
            "type": "scattergl"
           }
          ],
          "scattermapbox": [
           {
            "marker": {
             "colorbar": {
              "outlinewidth": 0,
              "ticks": ""
             }
            },
            "type": "scattermapbox"
           }
          ],
          "scatterpolar": [
           {
            "marker": {
             "colorbar": {
              "outlinewidth": 0,
              "ticks": ""
             }
            },
            "type": "scatterpolar"
           }
          ],
          "scatterpolargl": [
           {
            "marker": {
             "colorbar": {
              "outlinewidth": 0,
              "ticks": ""
             }
            },
            "type": "scatterpolargl"
           }
          ],
          "scatterternary": [
           {
            "marker": {
             "colorbar": {
              "outlinewidth": 0,
              "ticks": ""
             }
            },
            "type": "scatterternary"
           }
          ],
          "surface": [
           {
            "colorbar": {
             "outlinewidth": 0,
             "ticks": ""
            },
            "colorscale": [
             [
              0,
              "#0d0887"
             ],
             [
              0.1111111111111111,
              "#46039f"
             ],
             [
              0.2222222222222222,
              "#7201a8"
             ],
             [
              0.3333333333333333,
              "#9c179e"
             ],
             [
              0.4444444444444444,
              "#bd3786"
             ],
             [
              0.5555555555555556,
              "#d8576b"
             ],
             [
              0.6666666666666666,
              "#ed7953"
             ],
             [
              0.7777777777777778,
              "#fb9f3a"
             ],
             [
              0.8888888888888888,
              "#fdca26"
             ],
             [
              1,
              "#f0f921"
             ]
            ],
            "type": "surface"
           }
          ],
          "table": [
           {
            "cells": {
             "fill": {
              "color": "#EBF0F8"
             },
             "line": {
              "color": "white"
             }
            },
            "header": {
             "fill": {
              "color": "#C8D4E3"
             },
             "line": {
              "color": "white"
             }
            },
            "type": "table"
           }
          ]
         },
         "layout": {
          "annotationdefaults": {
           "arrowcolor": "#2a3f5f",
           "arrowhead": 0,
           "arrowwidth": 1
          },
          "autotypenumbers": "strict",
          "coloraxis": {
           "colorbar": {
            "outlinewidth": 0,
            "ticks": ""
           }
          },
          "colorscale": {
           "diverging": [
            [
             0,
             "#8e0152"
            ],
            [
             0.1,
             "#c51b7d"
            ],
            [
             0.2,
             "#de77ae"
            ],
            [
             0.3,
             "#f1b6da"
            ],
            [
             0.4,
             "#fde0ef"
            ],
            [
             0.5,
             "#f7f7f7"
            ],
            [
             0.6,
             "#e6f5d0"
            ],
            [
             0.7,
             "#b8e186"
            ],
            [
             0.8,
             "#7fbc41"
            ],
            [
             0.9,
             "#4d9221"
            ],
            [
             1,
             "#276419"
            ]
           ],
           "sequential": [
            [
             0,
             "#0d0887"
            ],
            [
             0.1111111111111111,
             "#46039f"
            ],
            [
             0.2222222222222222,
             "#7201a8"
            ],
            [
             0.3333333333333333,
             "#9c179e"
            ],
            [
             0.4444444444444444,
             "#bd3786"
            ],
            [
             0.5555555555555556,
             "#d8576b"
            ],
            [
             0.6666666666666666,
             "#ed7953"
            ],
            [
             0.7777777777777778,
             "#fb9f3a"
            ],
            [
             0.8888888888888888,
             "#fdca26"
            ],
            [
             1,
             "#f0f921"
            ]
           ],
           "sequentialminus": [
            [
             0,
             "#0d0887"
            ],
            [
             0.1111111111111111,
             "#46039f"
            ],
            [
             0.2222222222222222,
             "#7201a8"
            ],
            [
             0.3333333333333333,
             "#9c179e"
            ],
            [
             0.4444444444444444,
             "#bd3786"
            ],
            [
             0.5555555555555556,
             "#d8576b"
            ],
            [
             0.6666666666666666,
             "#ed7953"
            ],
            [
             0.7777777777777778,
             "#fb9f3a"
            ],
            [
             0.8888888888888888,
             "#fdca26"
            ],
            [
             1,
             "#f0f921"
            ]
           ]
          },
          "colorway": [
           "#636efa",
           "#EF553B",
           "#00cc96",
           "#ab63fa",
           "#FFA15A",
           "#19d3f3",
           "#FF6692",
           "#B6E880",
           "#FF97FF",
           "#FECB52"
          ],
          "font": {
           "color": "#2a3f5f"
          },
          "geo": {
           "bgcolor": "white",
           "lakecolor": "white",
           "landcolor": "#E5ECF6",
           "showlakes": true,
           "showland": true,
           "subunitcolor": "white"
          },
          "hoverlabel": {
           "align": "left"
          },
          "hovermode": "closest",
          "mapbox": {
           "style": "light"
          },
          "paper_bgcolor": "white",
          "plot_bgcolor": "#E5ECF6",
          "polar": {
           "angularaxis": {
            "gridcolor": "white",
            "linecolor": "white",
            "ticks": ""
           },
           "bgcolor": "#E5ECF6",
           "radialaxis": {
            "gridcolor": "white",
            "linecolor": "white",
            "ticks": ""
           }
          },
          "scene": {
           "xaxis": {
            "backgroundcolor": "#E5ECF6",
            "gridcolor": "white",
            "gridwidth": 2,
            "linecolor": "white",
            "showbackground": true,
            "ticks": "",
            "zerolinecolor": "white"
           },
           "yaxis": {
            "backgroundcolor": "#E5ECF6",
            "gridcolor": "white",
            "gridwidth": 2,
            "linecolor": "white",
            "showbackground": true,
            "ticks": "",
            "zerolinecolor": "white"
           },
           "zaxis": {
            "backgroundcolor": "#E5ECF6",
            "gridcolor": "white",
            "gridwidth": 2,
            "linecolor": "white",
            "showbackground": true,
            "ticks": "",
            "zerolinecolor": "white"
           }
          },
          "shapedefaults": {
           "line": {
            "color": "#2a3f5f"
           }
          },
          "ternary": {
           "aaxis": {
            "gridcolor": "white",
            "linecolor": "white",
            "ticks": ""
           },
           "baxis": {
            "gridcolor": "white",
            "linecolor": "white",
            "ticks": ""
           },
           "bgcolor": "#E5ECF6",
           "caxis": {
            "gridcolor": "white",
            "linecolor": "white",
            "ticks": ""
           }
          },
          "title": {
           "x": 0.05
          },
          "xaxis": {
           "automargin": true,
           "gridcolor": "white",
           "linecolor": "white",
           "ticks": "",
           "title": {
            "standoff": 15
           },
           "zerolinecolor": "white",
           "zerolinewidth": 2
          },
          "yaxis": {
           "automargin": true,
           "gridcolor": "white",
           "linecolor": "white",
           "ticks": "",
           "title": {
            "standoff": 15
           },
           "zerolinecolor": "white",
           "zerolinewidth": 2
          }
         }
        },
        "xaxis": {
         "anchor": "y",
         "domain": [
          0,
          1
         ],
         "title": {
          "text": "DateTime"
         }
        },
        "yaxis": {
         "anchor": "x",
         "domain": [
          0,
          1
         ],
         "title": {
          "text": "Actual"
         }
        }
       }
      }
     },
     "metadata": {},
     "output_type": "display_data"
    }
   ],
   "source": [
    "v.linea(d.indice)"
   ]
  },
  {
   "cell_type": "markdown",
   "metadata": {},
   "source": [
    "1. **Componente de Autocorrelación y Autocorrelación Parcial**"
   ]
  },
  {
   "cell_type": "code",
   "execution_count": 20,
   "metadata": {},
   "outputs": [
    {
     "name": "stderr",
     "output_type": "stream",
     "text": [
      "C:\\Users\\ariad\\AppData\\Local\\Packages\\PythonSoftwareFoundation.Python.3.9_qbz5n2kfra8p0\\LocalCache\\local-packages\\Python39\\site-packages\\statsmodels\\graphics\\tsaplots.py:348: FutureWarning:\n",
      "\n",
      "The default method 'yw' can produce PACF values outside of the [-1,1] interval. After 0.13, the default will change tounadjusted Yule-Walker ('ywm'). You can use this method now by setting method='ywm'.\n",
      "\n"
     ]
    },
    {
     "data": {
      "text/plain": [
       "(<Figure size 432x288 with 1 Axes>, <Figure size 432x288 with 1 Axes>)"
      ]
     },
     "execution_count": 20,
     "metadata": {},
     "output_type": "execute_result"
    },
    {
     "data": {
      "image/png": "[encoded data removed]",
      "text/plain": [
       "<Figure size 432x288 with 1 Axes>"
      ]
     },
     "metadata": {
      "needs_background": "light"
     },
     "output_type": "display_data"
    },
    {
     "data": {
      "image/png": "[encoded data removed]",
      "text/plain": [
       "<Figure size 432x288 with 1 Axes>"
      ]
     },
     "metadata": {
      "needs_background": "light"
     },
     "output_type": "display_data"
    }
   ],
   "source": [
    "v.autocorr(d.indice)"
   ]
  },
  {
   "cell_type": "markdown",
   "metadata": {},
   "source": [
    "2. **Prueba de Heterocedasticidad**"
   ]
  },
  {
   "cell_type": "code",
   "execution_count": 25,
   "metadata": {},
   "outputs": [
    {
     "data": {
      "image/png": "[encoded data removed]",
      "text/plain": [
       "<Figure size 864x432 with 1 Axes>"
      ]
     },
     "metadata": {
      "needs_background": "light"
     },
     "output_type": "display_data"
    }
   ],
   "source": [
    "v.hetero(d.indice)"
   ]
  },
  {
   "cell_type": "markdown",
   "metadata": {},
   "source": [
    "3. **Prueba de Normalidad**"
   ]
  },
  {
   "cell_type": "code",
   "execution_count": 31,
   "metadata": {},
   "outputs": [
    {
     "name": "stdout",
     "output_type": "stream",
     "text": [
      "Kursotis: -0.7765876349068872\n",
      "Skewness: -0.20907918782016474\n",
      "Shapiro-Wilk:  ShapiroResult(statistic=0.9768641591072083, pvalue=0.3211085796356201)\n",
      "D Agostino: NormaltestResult(statistic=3.044428424304445, pvalue=0.21822814818205835)\n"
     ]
    }
   ],
   "source": [
    "v.normalidad(d.indice)"
   ]
  },
  {
   "cell_type": "markdown",
   "metadata": {},
   "source": [
    "Después de realizar varias pruebas de normalidad y analizar los p-values, podemos decir que ninguno de los test muestra evidencias para rechazar la hipótesis de que los datos siguen una distribución normal. "
   ]
  },
  {
   "cell_type": "markdown",
   "metadata": {},
   "source": [
    "4-5 **Estacionalidad y Estacionariedad**"
   ]
  },
  {
   "cell_type": "code",
   "execution_count": 62,
   "metadata": {},
   "outputs": [
    {
     "name": "stdout",
     "output_type": "stream",
     "text": [
      "Hay evidencia de estacionariedad\n",
      "(None, 6.303832892951583e-07)\n"
     ]
    },
    {
     "data": {
      "image/png": "[encoded data removed]",
      "text/plain": [
       "<Figure size 1152x432 with 4 Axes>"
      ]
     },
     "metadata": {
      "needs_background": "light"
     },
     "output_type": "display_data"
    },
    {
     "data": {
      "text/plain": [
       "(None, None)"
      ]
     },
     "execution_count": 62,
     "metadata": {},
     "output_type": "execute_result"
    }
   ],
   "source": [
    "v.estacion(d.indice)"
   ]
  },
  {
   "cell_type": "markdown",
   "metadata": {},
   "source": [
    "6. **Detección de Atípicos**"
   ]
  },
  {
   "cell_type": "code",
   "execution_count": 64,
   "metadata": {},
   "outputs": [
    {
     "data": {
      "image/png": "[encoded data removed]",
      "text/plain": [
       "<Figure size 1152x432 with 1 Axes>"
      ]
     },
     "metadata": {
      "needs_background": "light"
     },
     "output_type": "display_data"
    }
   ],
   "source": [
    "v.atipicos(d.indice)"
   ]
  },
  {
   "cell_type": "markdown",
   "metadata": {},
   "source": [
    "Podemos apreciar que no hay datos atípicos. "
   ]
  },
  {
   "cell_type": "markdown",
   "metadata": {},
   "source": [
    "<hr style=\"border:0.02in solid gray\"> </hr>"
   ]
  },
  {
   "cell_type": "markdown",
   "metadata": {},
   "source": [
    "**Aspectos Computacionales**\n",
    "\n",
    "Hacemos la clasificación por escenarios utilizando la siguiente regla:"
   ]
  },
  {
   "cell_type": "code",
   "execution_count": 4,
   "metadata": {},
   "outputs": [
    {
     "data": {
      "text/html": [
       "<div>\n",
       "<style scoped>\n",
       "    .dataframe tbody tr th:only-of-type {\n",
       "        vertical-align: middle;\n",
       "    }\n",
       "\n",
       "    .dataframe tbody tr th {\n",
       "        vertical-align: top;\n",
       "    }\n",
       "\n",
       "    .dataframe thead th {\n",
       "        text-align: right;\n",
       "    }\n",
       "</style>\n",
       "<table border=\"1\" class=\"dataframe\">\n",
       "  <thead>\n",
       "    <tr style=\"text-align: right;\">\n",
       "      <th></th>\n",
       "      <th>Escenario</th>\n",
       "      <th>Regla</th>\n",
       "    </tr>\n",
       "  </thead>\n",
       "  <tbody>\n",
       "    <tr>\n",
       "      <th>0</th>\n",
       "      <td>A</td>\n",
       "      <td>Actual&gt;=Consensus&gt;=Previous</td>\n",
       "    </tr>\n",
       "    <tr>\n",
       "      <th>1</th>\n",
       "      <td>B</td>\n",
       "      <td>Actual&gt;=Consensus&lt;Previous</td>\n",
       "    </tr>\n",
       "    <tr>\n",
       "      <th>2</th>\n",
       "      <td>C</td>\n",
       "      <td>Actual&lt;Consensus&gt;=Previous</td>\n",
       "    </tr>\n",
       "    <tr>\n",
       "      <th>3</th>\n",
       "      <td>D</td>\n",
       "      <td>Actual&lt;Consensus&lt;Previous</td>\n",
       "    </tr>\n",
       "  </tbody>\n",
       "</table>\n",
       "</div>"
      ],
      "text/plain": [
       "  Escenario                        Regla\n",
       "0         A  Actual>=Consensus>=Previous\n",
       "1         B   Actual>=Consensus<Previous\n",
       "2         C   Actual<Consensus>=Previous\n",
       "3         D    Actual<Consensus<Previous"
      ]
     },
     "execution_count": 4,
     "metadata": {},
     "output_type": "execute_result"
    }
   ],
   "source": [
    "m.escenarios"
   ]
  },
  {
   "cell_type": "code",
   "execution_count": 5,
   "metadata": {},
   "outputs": [],
   "source": [
    "fechas, escenario, direccion, pip_bajista, pip_alcista, volatilidad =f.get_metricas(df_index,d.divisa)"
   ]
  },
  {
   "cell_type": "markdown",
   "metadata": {},
   "source": [
    "<br>"
   ]
  },
  {
   "cell_type": "markdown",
   "metadata": {},
   "source": [
    "# <font color= #6B6B6B> Etapa 4: Optimización y Backtest  </font>"
   ]
  },
  {
   "cell_type": "markdown",
   "metadata": {},
   "source": [
    "<hr style=\"border:0.02in solid gray\"> </hr>"
   ]
  },
  {
   "cell_type": "code",
   "execution_count": 10,
   "metadata": {},
   "outputs": [],
   "source": [
    "capital = 100000\n",
    "perdida = 1000"
   ]
  },
  {
   "cell_type": "code",
   "execution_count": 6,
   "metadata": {},
   "outputs": [],
   "source": [
    "df_escenarios= f.escenarios( fechas, escenario, direccion, pip_bajista, pip_alcista, volatilidad)"
   ]
  },
  {
   "cell_type": "code",
   "execution_count": 7,
   "metadata": {},
   "outputs": [
    {
     "data": {
      "text/html": [
       "<div>\n",
       "<style scoped>\n",
       "    .dataframe tbody tr th:only-of-type {\n",
       "        vertical-align: middle;\n",
       "    }\n",
       "\n",
       "    .dataframe tbody tr th {\n",
       "        vertical-align: top;\n",
       "    }\n",
       "\n",
       "    .dataframe thead th {\n",
       "        text-align: right;\n",
       "    }\n",
       "</style>\n",
       "<table border=\"1\" class=\"dataframe\">\n",
       "  <thead>\n",
       "    <tr style=\"text-align: right;\">\n",
       "      <th></th>\n",
       "      <th>TimeStamp</th>\n",
       "      <th>escenario</th>\n",
       "      <th>direccion</th>\n",
       "      <th>pip_alcista</th>\n",
       "      <th>pip_bajista</th>\n",
       "      <th>volatilidad</th>\n",
       "    </tr>\n",
       "  </thead>\n",
       "  <tbody>\n",
       "    <tr>\n",
       "      <th>0</th>\n",
       "      <td>2018-01-03 21:30:00</td>\n",
       "      <td>A</td>\n",
       "      <td>-1</td>\n",
       "      <td>1.0</td>\n",
       "      <td>1.0</td>\n",
       "      <td>6.0</td>\n",
       "    </tr>\n",
       "    <tr>\n",
       "      <th>1</th>\n",
       "      <td>2018-01-09 21:30:00</td>\n",
       "      <td>C</td>\n",
       "      <td>1</td>\n",
       "      <td>0.0</td>\n",
       "      <td>1.0</td>\n",
       "      <td>3.0</td>\n",
       "    </tr>\n",
       "    <tr>\n",
       "      <th>2</th>\n",
       "      <td>2018-01-17 21:30:00</td>\n",
       "      <td>A</td>\n",
       "      <td>-1</td>\n",
       "      <td>5.0</td>\n",
       "      <td>1.0</td>\n",
       "      <td>7.0</td>\n",
       "    </tr>\n",
       "    <tr>\n",
       "      <th>3</th>\n",
       "      <td>2018-01-23 21:30:00</td>\n",
       "      <td>A</td>\n",
       "      <td>-1</td>\n",
       "      <td>0.0</td>\n",
       "      <td>1.0</td>\n",
       "      <td>9.0</td>\n",
       "    </tr>\n",
       "    <tr>\n",
       "      <th>4</th>\n",
       "      <td>2018-01-30 21:30:00</td>\n",
       "      <td>C</td>\n",
       "      <td>1</td>\n",
       "      <td>1.0</td>\n",
       "      <td>1.0</td>\n",
       "      <td>12.0</td>\n",
       "    </tr>\n",
       "  </tbody>\n",
       "</table>\n",
       "</div>"
      ],
      "text/plain": [
       "            TimeStamp escenario  direccion  pip_alcista  pip_bajista  \\\n",
       "0 2018-01-03 21:30:00         A         -1          1.0          1.0   \n",
       "1 2018-01-09 21:30:00         C          1          0.0          1.0   \n",
       "2 2018-01-17 21:30:00         A         -1          5.0          1.0   \n",
       "3 2018-01-23 21:30:00         A         -1          0.0          1.0   \n",
       "4 2018-01-30 21:30:00         C          1          1.0          1.0   \n",
       "\n",
       "   volatilidad  \n",
       "0          6.0  \n",
       "1          3.0  \n",
       "2          7.0  \n",
       "3          9.0  \n",
       "4         12.0  "
      ]
     },
     "execution_count": 7,
     "metadata": {},
     "output_type": "execute_result"
    }
   ],
   "source": [
    "df_test,df_train = f.entrenamiento(df_escenarios)\n",
    "df_train.head()"
   ]
  },
  {
   "cell_type": "code",
   "execution_count": 8,
   "metadata": {},
   "outputs": [
    {
     "data": {
      "text/html": [
       "<div>\n",
       "<style scoped>\n",
       "    .dataframe tbody tr th:only-of-type {\n",
       "        vertical-align: middle;\n",
       "    }\n",
       "\n",
       "    .dataframe tbody tr th {\n",
       "        vertical-align: top;\n",
       "    }\n",
       "\n",
       "    .dataframe thead th {\n",
       "        text-align: right;\n",
       "    }\n",
       "</style>\n",
       "<table border=\"1\" class=\"dataframe\">\n",
       "  <thead>\n",
       "    <tr style=\"text-align: right;\">\n",
       "      <th></th>\n",
       "      <th>TimeStamp</th>\n",
       "      <th>escenario</th>\n",
       "      <th>direccion</th>\n",
       "      <th>pip_alcista</th>\n",
       "      <th>pip_bajista</th>\n",
       "      <th>volatilidad</th>\n",
       "    </tr>\n",
       "  </thead>\n",
       "  <tbody>\n",
       "    <tr>\n",
       "      <th>0</th>\n",
       "      <td>2018-01-03 21:30:00</td>\n",
       "      <td>A</td>\n",
       "      <td>-1</td>\n",
       "      <td>1.0</td>\n",
       "      <td>1.0</td>\n",
       "      <td>6.0</td>\n",
       "    </tr>\n",
       "    <tr>\n",
       "      <th>1</th>\n",
       "      <td>2018-01-09 21:30:00</td>\n",
       "      <td>C</td>\n",
       "      <td>1</td>\n",
       "      <td>0.0</td>\n",
       "      <td>1.0</td>\n",
       "      <td>3.0</td>\n",
       "    </tr>\n",
       "    <tr>\n",
       "      <th>2</th>\n",
       "      <td>2018-01-17 21:30:00</td>\n",
       "      <td>A</td>\n",
       "      <td>-1</td>\n",
       "      <td>5.0</td>\n",
       "      <td>1.0</td>\n",
       "      <td>7.0</td>\n",
       "    </tr>\n",
       "    <tr>\n",
       "      <th>3</th>\n",
       "      <td>2018-01-23 21:30:00</td>\n",
       "      <td>A</td>\n",
       "      <td>-1</td>\n",
       "      <td>0.0</td>\n",
       "      <td>1.0</td>\n",
       "      <td>9.0</td>\n",
       "    </tr>\n",
       "    <tr>\n",
       "      <th>4</th>\n",
       "      <td>2018-01-30 21:30:00</td>\n",
       "      <td>C</td>\n",
       "      <td>1</td>\n",
       "      <td>1.0</td>\n",
       "      <td>1.0</td>\n",
       "      <td>12.0</td>\n",
       "    </tr>\n",
       "  </tbody>\n",
       "</table>\n",
       "</div>"
      ],
      "text/plain": [
       "            TimeStamp escenario  direccion  pip_alcista  pip_bajista  \\\n",
       "0 2018-01-03 21:30:00         A         -1          1.0          1.0   \n",
       "1 2018-01-09 21:30:00         C          1          0.0          1.0   \n",
       "2 2018-01-17 21:30:00         A         -1          5.0          1.0   \n",
       "3 2018-01-23 21:30:00         A         -1          0.0          1.0   \n",
       "4 2018-01-30 21:30:00         C          1          1.0          1.0   \n",
       "\n",
       "   volatilidad  \n",
       "0          6.0  \n",
       "1          3.0  \n",
       "2          7.0  \n",
       "3          9.0  \n",
       "4         12.0  "
      ]
     },
     "execution_count": 8,
     "metadata": {},
     "output_type": "execute_result"
    }
   ],
   "source": [
    "df_test, df_train = f.entrenamiento(df_escenarios)\n",
    "df_train.head()"
   ]
  },
  {
   "cell_type": "code",
   "execution_count": 9,
   "metadata": {},
   "outputs": [
    {
     "data": {
      "text/html": [
       "<div>\n",
       "<style scoped>\n",
       "    .dataframe tbody tr th:only-of-type {\n",
       "        vertical-align: middle;\n",
       "    }\n",
       "\n",
       "    .dataframe tbody tr th {\n",
       "        vertical-align: top;\n",
       "    }\n",
       "\n",
       "    .dataframe thead th {\n",
       "        text-align: right;\n",
       "    }\n",
       "</style>\n",
       "<table border=\"1\" class=\"dataframe\">\n",
       "  <thead>\n",
       "    <tr style=\"text-align: right;\">\n",
       "      <th></th>\n",
       "      <th>escenario</th>\n",
       "      <th>operacion</th>\n",
       "      <th>SL</th>\n",
       "      <th>TP</th>\n",
       "      <th>volumen</th>\n",
       "    </tr>\n",
       "  </thead>\n",
       "  <tbody>\n",
       "    <tr>\n",
       "      <th>0</th>\n",
       "      <td>A</td>\n",
       "      <td>Sell</td>\n",
       "      <td>20</td>\n",
       "      <td>30</td>\n",
       "      <td>100</td>\n",
       "    </tr>\n",
       "    <tr>\n",
       "      <th>1</th>\n",
       "      <td>C</td>\n",
       "      <td>Buy</td>\n",
       "      <td>20</td>\n",
       "      <td>30</td>\n",
       "      <td>100</td>\n",
       "    </tr>\n",
       "    <tr>\n",
       "      <th>2</th>\n",
       "      <td>A</td>\n",
       "      <td>Sell</td>\n",
       "      <td>20</td>\n",
       "      <td>30</td>\n",
       "      <td>100</td>\n",
       "    </tr>\n",
       "    <tr>\n",
       "      <th>3</th>\n",
       "      <td>C</td>\n",
       "      <td>Sell</td>\n",
       "      <td>20</td>\n",
       "      <td>30</td>\n",
       "      <td>100</td>\n",
       "    </tr>\n",
       "    <tr>\n",
       "      <th>4</th>\n",
       "      <td>A</td>\n",
       "      <td>Buy</td>\n",
       "      <td>20</td>\n",
       "      <td>30</td>\n",
       "      <td>100</td>\n",
       "    </tr>\n",
       "  </tbody>\n",
       "</table>\n",
       "</div>"
      ],
      "text/plain": [
       "  escenario operacion  SL  TP  volumen\n",
       "0         A      Sell  20  30      100\n",
       "1         C       Buy  20  30      100\n",
       "2         A      Sell  20  30      100\n",
       "3         C      Sell  20  30      100\n",
       "4         A       Buy  20  30      100"
      ]
     },
     "execution_count": 9,
     "metadata": {},
     "output_type": "execute_result"
    }
   ],
   "source": [
    "df_decisiones, tiempo = f.decisiones(df_escenarios)\n",
    "df_decisiones.head()"
   ]
  },
  {
   "cell_type": "code",
   "execution_count": 11,
   "metadata": {},
   "outputs": [
    {
     "data": {
      "text/html": [
       "<div>\n",
       "<style scoped>\n",
       "    .dataframe tbody tr th:only-of-type {\n",
       "        vertical-align: middle;\n",
       "    }\n",
       "\n",
       "    .dataframe tbody tr th {\n",
       "        vertical-align: top;\n",
       "    }\n",
       "\n",
       "    .dataframe thead th {\n",
       "        text-align: right;\n",
       "    }\n",
       "</style>\n",
       "<table border=\"1\" class=\"dataframe\">\n",
       "  <thead>\n",
       "    <tr style=\"text-align: right;\">\n",
       "      <th></th>\n",
       "      <th>time</th>\n",
       "      <th>open</th>\n",
       "      <th>high</th>\n",
       "      <th>low</th>\n",
       "      <th>close</th>\n",
       "      <th>tick_volume</th>\n",
       "      <th>spread</th>\n",
       "      <th>real_volume</th>\n",
       "    </tr>\n",
       "  </thead>\n",
       "  <tbody>\n",
       "    <tr>\n",
       "      <th>0</th>\n",
       "      <td>2018-01-02 00:00:00</td>\n",
       "      <td>1.20087</td>\n",
       "      <td>1.20095</td>\n",
       "      <td>1.20007</td>\n",
       "      <td>1.20090</td>\n",
       "      <td>705</td>\n",
       "      <td>16</td>\n",
       "      <td>155200000</td>\n",
       "    </tr>\n",
       "    <tr>\n",
       "      <th>1</th>\n",
       "      <td>2018-01-02 00:15:00</td>\n",
       "      <td>1.20090</td>\n",
       "      <td>1.20094</td>\n",
       "      <td>1.20034</td>\n",
       "      <td>1.20058</td>\n",
       "      <td>1083</td>\n",
       "      <td>19</td>\n",
       "      <td>216600000</td>\n",
       "    </tr>\n",
       "    <tr>\n",
       "      <th>2</th>\n",
       "      <td>2018-01-02 00:30:00</td>\n",
       "      <td>1.20059</td>\n",
       "      <td>1.20160</td>\n",
       "      <td>1.20058</td>\n",
       "      <td>1.20135</td>\n",
       "      <td>969</td>\n",
       "      <td>18</td>\n",
       "      <td>193800000</td>\n",
       "    </tr>\n",
       "    <tr>\n",
       "      <th>3</th>\n",
       "      <td>2018-01-02 00:45:00</td>\n",
       "      <td>1.20135</td>\n",
       "      <td>1.20141</td>\n",
       "      <td>1.20125</td>\n",
       "      <td>1.20130</td>\n",
       "      <td>1234</td>\n",
       "      <td>20</td>\n",
       "      <td>246800000</td>\n",
       "    </tr>\n",
       "    <tr>\n",
       "      <th>4</th>\n",
       "      <td>2018-01-02 01:00:00</td>\n",
       "      <td>1.20130</td>\n",
       "      <td>1.20139</td>\n",
       "      <td>1.20019</td>\n",
       "      <td>1.20137</td>\n",
       "      <td>4787</td>\n",
       "      <td>18</td>\n",
       "      <td>957400000</td>\n",
       "    </tr>\n",
       "    <tr>\n",
       "      <th>...</th>\n",
       "      <td>...</td>\n",
       "      <td>...</td>\n",
       "      <td>...</td>\n",
       "      <td>...</td>\n",
       "      <td>...</td>\n",
       "      <td>...</td>\n",
       "      <td>...</td>\n",
       "      <td>...</td>\n",
       "    </tr>\n",
       "    <tr>\n",
       "      <th>53583</th>\n",
       "      <td>2020-02-28 22:45:00</td>\n",
       "      <td>1.10445</td>\n",
       "      <td>1.10446</td>\n",
       "      <td>1.10328</td>\n",
       "      <td>1.10371</td>\n",
       "      <td>12727</td>\n",
       "      <td>15</td>\n",
       "      <td>1909050000</td>\n",
       "    </tr>\n",
       "    <tr>\n",
       "      <th>53584</th>\n",
       "      <td>2020-02-28 23:00:00</td>\n",
       "      <td>1.10372</td>\n",
       "      <td>1.10424</td>\n",
       "      <td>1.10232</td>\n",
       "      <td>1.10279</td>\n",
       "      <td>8632</td>\n",
       "      <td>15</td>\n",
       "      <td>1294800000</td>\n",
       "    </tr>\n",
       "    <tr>\n",
       "      <th>53585</th>\n",
       "      <td>2020-02-28 23:15:00</td>\n",
       "      <td>1.10279</td>\n",
       "      <td>1.10318</td>\n",
       "      <td>1.10261</td>\n",
       "      <td>1.10305</td>\n",
       "      <td>3709</td>\n",
       "      <td>15</td>\n",
       "      <td>556350000</td>\n",
       "    </tr>\n",
       "    <tr>\n",
       "      <th>53586</th>\n",
       "      <td>2020-02-28 23:30:00</td>\n",
       "      <td>1.10305</td>\n",
       "      <td>1.10394</td>\n",
       "      <td>1.10302</td>\n",
       "      <td>1.10309</td>\n",
       "      <td>4400</td>\n",
       "      <td>15</td>\n",
       "      <td>660000000</td>\n",
       "    </tr>\n",
       "    <tr>\n",
       "      <th>53587</th>\n",
       "      <td>2020-02-28 23:45:00</td>\n",
       "      <td>1.10309</td>\n",
       "      <td>1.10320</td>\n",
       "      <td>1.10233</td>\n",
       "      <td>1.10262</td>\n",
       "      <td>4538</td>\n",
       "      <td>13</td>\n",
       "      <td>680700000</td>\n",
       "    </tr>\n",
       "  </tbody>\n",
       "</table>\n",
       "<p>53588 rows × 8 columns</p>\n",
       "</div>"
      ],
      "text/plain": [
       "                     time     open     high      low    close  tick_volume  \\\n",
       "0     2018-01-02 00:00:00  1.20087  1.20095  1.20007  1.20090          705   \n",
       "1     2018-01-02 00:15:00  1.20090  1.20094  1.20034  1.20058         1083   \n",
       "2     2018-01-02 00:30:00  1.20059  1.20160  1.20058  1.20135          969   \n",
       "3     2018-01-02 00:45:00  1.20135  1.20141  1.20125  1.20130         1234   \n",
       "4     2018-01-02 01:00:00  1.20130  1.20139  1.20019  1.20137         4787   \n",
       "...                   ...      ...      ...      ...      ...          ...   \n",
       "53583 2020-02-28 22:45:00  1.10445  1.10446  1.10328  1.10371        12727   \n",
       "53584 2020-02-28 23:00:00  1.10372  1.10424  1.10232  1.10279         8632   \n",
       "53585 2020-02-28 23:15:00  1.10279  1.10318  1.10261  1.10305         3709   \n",
       "53586 2020-02-28 23:30:00  1.10305  1.10394  1.10302  1.10309         4400   \n",
       "53587 2020-02-28 23:45:00  1.10309  1.10320  1.10233  1.10262         4538   \n",
       "\n",
       "       spread  real_volume  \n",
       "0          16    155200000  \n",
       "1          19    216600000  \n",
       "2          18    193800000  \n",
       "3          20    246800000  \n",
       "4          18    957400000  \n",
       "...       ...          ...  \n",
       "53583      15   1909050000  \n",
       "53584      15   1294800000  \n",
       "53585      15    556350000  \n",
       "53586      15    660000000  \n",
       "53587      13    680700000  \n",
       "\n",
       "[53588 rows x 8 columns]"
      ]
     },
     "execution_count": 11,
     "metadata": {},
     "output_type": "execute_result"
    }
   ],
   "source": [
    "divisa"
   ]
  },
  {
   "cell_type": "code",
   "execution_count": 12,
   "metadata": {},
   "outputs": [
    {
     "data": {
      "text/html": [
       "<div>\n",
       "<style scoped>\n",
       "    .dataframe tbody tr th:only-of-type {\n",
       "        vertical-align: middle;\n",
       "    }\n",
       "\n",
       "    .dataframe tbody tr th {\n",
       "        vertical-align: top;\n",
       "    }\n",
       "\n",
       "    .dataframe thead th {\n",
       "        text-align: right;\n",
       "    }\n",
       "</style>\n",
       "<table border=\"1\" class=\"dataframe\">\n",
       "  <thead>\n",
       "    <tr style=\"text-align: right;\">\n",
       "      <th></th>\n",
       "      <th>DateTime</th>\n",
       "      <th>escenario</th>\n",
       "      <th>operacion</th>\n",
       "      <th>volumen</th>\n",
       "    </tr>\n",
       "  </thead>\n",
       "  <tbody>\n",
       "    <tr>\n",
       "      <th>0</th>\n",
       "      <td>2019-02-05 21:30:00</td>\n",
       "      <td>A</td>\n",
       "      <td>Sell</td>\n",
       "      <td>100</td>\n",
       "    </tr>\n",
       "    <tr>\n",
       "      <th>1</th>\n",
       "      <td>2019-02-12 21:30:00</td>\n",
       "      <td>C</td>\n",
       "      <td>Buy</td>\n",
       "      <td>100</td>\n",
       "    </tr>\n",
       "    <tr>\n",
       "      <th>2</th>\n",
       "      <td>2019-02-20 21:30:00</td>\n",
       "      <td>A</td>\n",
       "      <td>Sell</td>\n",
       "      <td>100</td>\n",
       "    </tr>\n",
       "    <tr>\n",
       "      <th>3</th>\n",
       "      <td>2019-02-26 21:30:00</td>\n",
       "      <td>C</td>\n",
       "      <td>Sell</td>\n",
       "      <td>100</td>\n",
       "    </tr>\n",
       "    <tr>\n",
       "      <th>4</th>\n",
       "      <td>2019-03-05 21:30:00</td>\n",
       "      <td>A</td>\n",
       "      <td>Buy</td>\n",
       "      <td>100</td>\n",
       "    </tr>\n",
       "  </tbody>\n",
       "</table>\n",
       "</div>"
      ],
      "text/plain": [
       "             DateTime escenario operacion  volumen\n",
       "0 2019-02-05 21:30:00         A      Sell      100\n",
       "1 2019-02-12 21:30:00         C       Buy      100\n",
       "2 2019-02-20 21:30:00         A      Sell      100\n",
       "3 2019-02-26 21:30:00         C      Sell      100\n",
       "4 2019-03-05 21:30:00         A       Buy      100"
      ]
     },
     "execution_count": 12,
     "metadata": {},
     "output_type": "execute_result"
    }
   ],
   "source": [
    "df_backtest = pd.DataFrame()\n",
    "df_backtest['DateTime'] = tiempo\n",
    "a = list(df_decisiones.escenario)\n",
    "df_backtest['escenario'] = a\n",
    "a = list(df_decisiones.operacion)\n",
    "df_backtest['operacion'] = a\n",
    "df_backtest['volumen'] = 100\n",
    "df_backtest = df_backtest.reset_index()\n",
    "df_backtest = df_backtest.drop(['index'], axis=1)\n",
    "            \n",
    "df_backtest.head()\n"
   ]
  },
  {
   "cell_type": "code",
   "execution_count": 53,
   "metadata": {},
   "outputs": [
    {
     "data": {
      "text/plain": [
       "50"
      ]
     },
     "execution_count": 53,
     "metadata": {},
     "output_type": "execute_result"
    }
   ],
   "source": [
    "len(pips)"
   ]
  },
  {
   "cell_type": "code",
   "execution_count": 57,
   "metadata": {},
   "outputs": [
    {
     "data": {
      "text/plain": [
       "<module 'functions' from 'c:\\\\Users\\\\ariad\\\\OneDrive\\\\Documentos\\\\GitHub\\\\myst_proyecto_1\\\\functions.py'>"
      ]
     },
     "execution_count": 57,
     "metadata": {},
     "output_type": "execute_result"
    }
   ],
   "source": [
    "importlib.reload(f)"
   ]
  },
  {
   "cell_type": "code",
   "execution_count": 58,
   "metadata": {},
   "outputs": [],
   "source": [
    "df_backtest = f.backtest(df_decisiones, divisa, tiempo)"
   ]
  },
  {
   "cell_type": "markdown",
   "metadata": {},
   "source": [
    "<br>"
   ]
  },
  {
   "cell_type": "code",
   "execution_count": 59,
   "metadata": {},
   "outputs": [
    {
     "data": {
      "text/html": [
       "<div>\n",
       "<style scoped>\n",
       "    .dataframe tbody tr th:only-of-type {\n",
       "        vertical-align: middle;\n",
       "    }\n",
       "\n",
       "    .dataframe tbody tr th {\n",
       "        vertical-align: top;\n",
       "    }\n",
       "\n",
       "    .dataframe thead th {\n",
       "        text-align: right;\n",
       "    }\n",
       "</style>\n",
       "<table border=\"1\" class=\"dataframe\">\n",
       "  <thead>\n",
       "    <tr style=\"text-align: right;\">\n",
       "      <th></th>\n",
       "      <th>DateTime</th>\n",
       "      <th>escenario</th>\n",
       "      <th>operacion</th>\n",
       "      <th>volumen</th>\n",
       "      <th>resultado</th>\n",
       "      <th>pips</th>\n",
       "      <th>capital</th>\n",
       "      <th>capital_acm</th>\n",
       "    </tr>\n",
       "  </thead>\n",
       "  <tbody>\n",
       "    <tr>\n",
       "      <th>0</th>\n",
       "      <td>2019-02-05 21:30:00</td>\n",
       "      <td>A</td>\n",
       "      <td>Sell</td>\n",
       "      <td>1000</td>\n",
       "      <td>ganada</td>\n",
       "      <td>0.1</td>\n",
       "      <td>0.008327</td>\n",
       "      <td>100000.008327</td>\n",
       "    </tr>\n",
       "    <tr>\n",
       "      <th>1</th>\n",
       "      <td>2019-02-12 21:30:00</td>\n",
       "      <td>C</td>\n",
       "      <td>Buy</td>\n",
       "      <td>1000</td>\n",
       "      <td>perdida</td>\n",
       "      <td>0.0</td>\n",
       "      <td>-0.008327</td>\n",
       "      <td>99999.991673</td>\n",
       "    </tr>\n",
       "    <tr>\n",
       "      <th>2</th>\n",
       "      <td>2019-02-20 21:30:00</td>\n",
       "      <td>A</td>\n",
       "      <td>Sell</td>\n",
       "      <td>1000</td>\n",
       "      <td>ganada</td>\n",
       "      <td>0.1</td>\n",
       "      <td>0.008327</td>\n",
       "      <td>100000.008327</td>\n",
       "    </tr>\n",
       "    <tr>\n",
       "      <th>3</th>\n",
       "      <td>2019-02-26 21:30:00</td>\n",
       "      <td>C</td>\n",
       "      <td>Sell</td>\n",
       "      <td>1000</td>\n",
       "      <td>ganada</td>\n",
       "      <td>0.2</td>\n",
       "      <td>0.008327</td>\n",
       "      <td>100000.008327</td>\n",
       "    </tr>\n",
       "    <tr>\n",
       "      <th>4</th>\n",
       "      <td>2019-03-05 21:30:00</td>\n",
       "      <td>A</td>\n",
       "      <td>Buy</td>\n",
       "      <td>1000</td>\n",
       "      <td>perdida</td>\n",
       "      <td>0.1</td>\n",
       "      <td>-0.008327</td>\n",
       "      <td>99999.991673</td>\n",
       "    </tr>\n",
       "    <tr>\n",
       "      <th>5</th>\n",
       "      <td>2019-03-12 20:30:00</td>\n",
       "      <td>C</td>\n",
       "      <td>Buy</td>\n",
       "      <td>1000</td>\n",
       "      <td>perdida</td>\n",
       "      <td>0.0</td>\n",
       "      <td>-0.008327</td>\n",
       "      <td>99999.991673</td>\n",
       "    </tr>\n",
       "    <tr>\n",
       "      <th>6</th>\n",
       "      <td>2019-03-19 20:30:00</td>\n",
       "      <td>A</td>\n",
       "      <td>Sell</td>\n",
       "      <td>1000</td>\n",
       "      <td>ganada</td>\n",
       "      <td>0.1</td>\n",
       "      <td>0.008327</td>\n",
       "      <td>100000.008327</td>\n",
       "    </tr>\n",
       "    <tr>\n",
       "      <th>7</th>\n",
       "      <td>2019-03-26 20:30:00</td>\n",
       "      <td>A</td>\n",
       "      <td>Buy</td>\n",
       "      <td>1000</td>\n",
       "      <td>perdida</td>\n",
       "      <td>0.0</td>\n",
       "      <td>-0.008327</td>\n",
       "      <td>99999.991673</td>\n",
       "    </tr>\n",
       "    <tr>\n",
       "      <th>8</th>\n",
       "      <td>2019-04-02 20:30:00</td>\n",
       "      <td>A</td>\n",
       "      <td>Sell</td>\n",
       "      <td>1000</td>\n",
       "      <td>ganada</td>\n",
       "      <td>0.1</td>\n",
       "      <td>0.008327</td>\n",
       "      <td>100000.008327</td>\n",
       "    </tr>\n",
       "    <tr>\n",
       "      <th>9</th>\n",
       "      <td>2019-04-09 20:30:00</td>\n",
       "      <td>A</td>\n",
       "      <td>Sell</td>\n",
       "      <td>1000</td>\n",
       "      <td>ganada</td>\n",
       "      <td>0.2</td>\n",
       "      <td>0.008327</td>\n",
       "      <td>100000.008327</td>\n",
       "    </tr>\n",
       "    <tr>\n",
       "      <th>10</th>\n",
       "      <td>2019-04-16 20:30:00</td>\n",
       "      <td>C</td>\n",
       "      <td>Buy</td>\n",
       "      <td>1000</td>\n",
       "      <td>perdida</td>\n",
       "      <td>0.1</td>\n",
       "      <td>-0.008327</td>\n",
       "      <td>99999.991673</td>\n",
       "    </tr>\n",
       "    <tr>\n",
       "      <th>11</th>\n",
       "      <td>2019-04-23 20:30:00</td>\n",
       "      <td>A</td>\n",
       "      <td>Buy</td>\n",
       "      <td>1000</td>\n",
       "      <td>perdida</td>\n",
       "      <td>0.0</td>\n",
       "      <td>-0.008327</td>\n",
       "      <td>99999.991673</td>\n",
       "    </tr>\n",
       "    <tr>\n",
       "      <th>12</th>\n",
       "      <td>2019-04-30 20:30:00</td>\n",
       "      <td>C</td>\n",
       "      <td>Sell</td>\n",
       "      <td>1000</td>\n",
       "      <td>ganada</td>\n",
       "      <td>0.1</td>\n",
       "      <td>0.008327</td>\n",
       "      <td>100000.008327</td>\n",
       "    </tr>\n",
       "    <tr>\n",
       "      <th>13</th>\n",
       "      <td>2019-05-07 20:30:00</td>\n",
       "      <td>C</td>\n",
       "      <td>Buy</td>\n",
       "      <td>1000</td>\n",
       "      <td>perdida</td>\n",
       "      <td>0.0</td>\n",
       "      <td>-0.008327</td>\n",
       "      <td>99999.991673</td>\n",
       "    </tr>\n",
       "    <tr>\n",
       "      <th>14</th>\n",
       "      <td>2019-05-14 20:30:00</td>\n",
       "      <td>A</td>\n",
       "      <td>Sell</td>\n",
       "      <td>1000</td>\n",
       "      <td>ganada</td>\n",
       "      <td>0.1</td>\n",
       "      <td>0.008327</td>\n",
       "      <td>100000.008327</td>\n",
       "    </tr>\n",
       "    <tr>\n",
       "      <th>15</th>\n",
       "      <td>2019-05-21 21:30:00</td>\n",
       "      <td>C</td>\n",
       "      <td>Buy</td>\n",
       "      <td>1000</td>\n",
       "      <td>perdida</td>\n",
       "      <td>0.0</td>\n",
       "      <td>-0.008327</td>\n",
       "      <td>99999.991673</td>\n",
       "    </tr>\n",
       "    <tr>\n",
       "      <th>16</th>\n",
       "      <td>2019-05-29 20:30:00</td>\n",
       "      <td>C</td>\n",
       "      <td>Sell</td>\n",
       "      <td>1000</td>\n",
       "      <td>ganada</td>\n",
       "      <td>0.1</td>\n",
       "      <td>0.008327</td>\n",
       "      <td>100000.008327</td>\n",
       "    </tr>\n",
       "    <tr>\n",
       "      <th>17</th>\n",
       "      <td>2019-06-04 20:30:00</td>\n",
       "      <td>A</td>\n",
       "      <td>Sell</td>\n",
       "      <td>1000</td>\n",
       "      <td>ganada</td>\n",
       "      <td>0.2</td>\n",
       "      <td>0.008327</td>\n",
       "      <td>100000.008327</td>\n",
       "    </tr>\n",
       "    <tr>\n",
       "      <th>18</th>\n",
       "      <td>2019-06-11 20:30:00</td>\n",
       "      <td>A</td>\n",
       "      <td>Buy</td>\n",
       "      <td>1000</td>\n",
       "      <td>perdida</td>\n",
       "      <td>0.1</td>\n",
       "      <td>-0.008327</td>\n",
       "      <td>99999.991673</td>\n",
       "    </tr>\n",
       "    <tr>\n",
       "      <th>19</th>\n",
       "      <td>2019-06-18 20:30:00</td>\n",
       "      <td>C</td>\n",
       "      <td>Sell</td>\n",
       "      <td>1000</td>\n",
       "      <td>ganada</td>\n",
       "      <td>0.2</td>\n",
       "      <td>0.008327</td>\n",
       "      <td>100000.008327</td>\n",
       "    </tr>\n",
       "    <tr>\n",
       "      <th>20</th>\n",
       "      <td>2019-06-25 20:30:00</td>\n",
       "      <td>C</td>\n",
       "      <td>Buy</td>\n",
       "      <td>1000</td>\n",
       "      <td>perdida</td>\n",
       "      <td>0.1</td>\n",
       "      <td>-0.008327</td>\n",
       "      <td>99999.991673</td>\n",
       "    </tr>\n",
       "    <tr>\n",
       "      <th>21</th>\n",
       "      <td>2019-07-02 20:30:00</td>\n",
       "      <td>A</td>\n",
       "      <td>Sell</td>\n",
       "      <td>1000</td>\n",
       "      <td>ganada</td>\n",
       "      <td>0.2</td>\n",
       "      <td>0.008327</td>\n",
       "      <td>100000.008327</td>\n",
       "    </tr>\n",
       "    <tr>\n",
       "      <th>22</th>\n",
       "      <td>2019-07-09 20:30:00</td>\n",
       "      <td>C</td>\n",
       "      <td>Buy</td>\n",
       "      <td>1000</td>\n",
       "      <td>perdida</td>\n",
       "      <td>0.1</td>\n",
       "      <td>-0.008327</td>\n",
       "      <td>99999.991673</td>\n",
       "    </tr>\n",
       "    <tr>\n",
       "      <th>23</th>\n",
       "      <td>2019-07-16 20:30:00</td>\n",
       "      <td>A</td>\n",
       "      <td>Sell</td>\n",
       "      <td>1000</td>\n",
       "      <td>ganada</td>\n",
       "      <td>0.2</td>\n",
       "      <td>0.008327</td>\n",
       "      <td>100000.008327</td>\n",
       "    </tr>\n",
       "    <tr>\n",
       "      <th>24</th>\n",
       "      <td>2019-07-23 20:30:00</td>\n",
       "      <td>C</td>\n",
       "      <td>Buy</td>\n",
       "      <td>1000</td>\n",
       "      <td>perdida</td>\n",
       "      <td>0.1</td>\n",
       "      <td>-0.008327</td>\n",
       "      <td>99999.991673</td>\n",
       "    </tr>\n",
       "    <tr>\n",
       "      <th>25</th>\n",
       "      <td>2019-07-30 20:30:00</td>\n",
       "      <td>A</td>\n",
       "      <td>Buy</td>\n",
       "      <td>1000</td>\n",
       "      <td>perdida</td>\n",
       "      <td>0.0</td>\n",
       "      <td>-0.008327</td>\n",
       "      <td>99999.991673</td>\n",
       "    </tr>\n",
       "    <tr>\n",
       "      <th>26</th>\n",
       "      <td>2019-08-06 20:30:00</td>\n",
       "      <td>A</td>\n",
       "      <td>Sell</td>\n",
       "      <td>1000</td>\n",
       "      <td>ganada</td>\n",
       "      <td>0.1</td>\n",
       "      <td>0.008327</td>\n",
       "      <td>100000.008327</td>\n",
       "    </tr>\n",
       "    <tr>\n",
       "      <th>27</th>\n",
       "      <td>2019-08-13 20:30:00</td>\n",
       "      <td>A</td>\n",
       "      <td>Buy</td>\n",
       "      <td>1000</td>\n",
       "      <td>perdida</td>\n",
       "      <td>0.0</td>\n",
       "      <td>-0.008327</td>\n",
       "      <td>99999.991673</td>\n",
       "    </tr>\n",
       "    <tr>\n",
       "      <th>28</th>\n",
       "      <td>2019-08-20 21:30:00</td>\n",
       "      <td>C</td>\n",
       "      <td>Sell</td>\n",
       "      <td>1000</td>\n",
       "      <td>ganada</td>\n",
       "      <td>0.1</td>\n",
       "      <td>0.008327</td>\n",
       "      <td>100000.008327</td>\n",
       "    </tr>\n",
       "    <tr>\n",
       "      <th>29</th>\n",
       "      <td>2019-08-27 20:30:00</td>\n",
       "      <td>C</td>\n",
       "      <td>Buy</td>\n",
       "      <td>1000</td>\n",
       "      <td>perdida</td>\n",
       "      <td>0.0</td>\n",
       "      <td>-0.008327</td>\n",
       "      <td>99999.991673</td>\n",
       "    </tr>\n",
       "    <tr>\n",
       "      <th>30</th>\n",
       "      <td>2019-09-04 20:30:00</td>\n",
       "      <td>A</td>\n",
       "      <td>Sell</td>\n",
       "      <td>1000</td>\n",
       "      <td>ganada</td>\n",
       "      <td>0.1</td>\n",
       "      <td>0.008327</td>\n",
       "      <td>100000.008327</td>\n",
       "    </tr>\n",
       "    <tr>\n",
       "      <th>31</th>\n",
       "      <td>2019-09-10 20:30:00</td>\n",
       "      <td>C</td>\n",
       "      <td>Buy</td>\n",
       "      <td>1000</td>\n",
       "      <td>perdida</td>\n",
       "      <td>0.0</td>\n",
       "      <td>-0.008327</td>\n",
       "      <td>99999.991673</td>\n",
       "    </tr>\n",
       "    <tr>\n",
       "      <th>32</th>\n",
       "      <td>2019-09-17 21:30:00</td>\n",
       "      <td>A</td>\n",
       "      <td>Sell</td>\n",
       "      <td>1000</td>\n",
       "      <td>ganada</td>\n",
       "      <td>0.1</td>\n",
       "      <td>0.008327</td>\n",
       "      <td>100000.008327</td>\n",
       "    </tr>\n",
       "    <tr>\n",
       "      <th>33</th>\n",
       "      <td>2019-09-24 20:30:00</td>\n",
       "      <td>A</td>\n",
       "      <td>Buy</td>\n",
       "      <td>1000</td>\n",
       "      <td>perdida</td>\n",
       "      <td>0.0</td>\n",
       "      <td>-0.008327</td>\n",
       "      <td>99999.991673</td>\n",
       "    </tr>\n",
       "    <tr>\n",
       "      <th>34</th>\n",
       "      <td>2019-10-01 20:30:00</td>\n",
       "      <td>C</td>\n",
       "      <td>Sell</td>\n",
       "      <td>1000</td>\n",
       "      <td>ganada</td>\n",
       "      <td>0.1</td>\n",
       "      <td>0.008327</td>\n",
       "      <td>100000.008327</td>\n",
       "    </tr>\n",
       "    <tr>\n",
       "      <th>35</th>\n",
       "      <td>2019-10-08 20:30:00</td>\n",
       "      <td>A</td>\n",
       "      <td>Buy</td>\n",
       "      <td>1000</td>\n",
       "      <td>perdida</td>\n",
       "      <td>0.0</td>\n",
       "      <td>-0.008327</td>\n",
       "      <td>99999.991673</td>\n",
       "    </tr>\n",
       "    <tr>\n",
       "      <th>36</th>\n",
       "      <td>2019-10-16 20:30:00</td>\n",
       "      <td>A</td>\n",
       "      <td>Buy</td>\n",
       "      <td>1000</td>\n",
       "      <td>perdida</td>\n",
       "      <td>-0.1</td>\n",
       "      <td>-0.008327</td>\n",
       "      <td>99999.991673</td>\n",
       "    </tr>\n",
       "    <tr>\n",
       "      <th>37</th>\n",
       "      <td>2019-10-22 20:30:00</td>\n",
       "      <td>C</td>\n",
       "      <td>Sell</td>\n",
       "      <td>1000</td>\n",
       "      <td>ganada</td>\n",
       "      <td>0.0</td>\n",
       "      <td>0.008327</td>\n",
       "      <td>100000.008327</td>\n",
       "    </tr>\n",
       "    <tr>\n",
       "      <th>38</th>\n",
       "      <td>2019-10-29 20:30:00</td>\n",
       "      <td>C</td>\n",
       "      <td>Sell</td>\n",
       "      <td>1000</td>\n",
       "      <td>ganada</td>\n",
       "      <td>0.1</td>\n",
       "      <td>0.008327</td>\n",
       "      <td>100000.008327</td>\n",
       "    </tr>\n",
       "    <tr>\n",
       "      <th>39</th>\n",
       "      <td>2019-11-05 21:30:00</td>\n",
       "      <td>A</td>\n",
       "      <td>Buy</td>\n",
       "      <td>1000</td>\n",
       "      <td>perdida</td>\n",
       "      <td>0.0</td>\n",
       "      <td>-0.008327</td>\n",
       "      <td>99999.991673</td>\n",
       "    </tr>\n",
       "    <tr>\n",
       "      <th>40</th>\n",
       "      <td>2019-11-13 21:30:00</td>\n",
       "      <td>C</td>\n",
       "      <td>Sell</td>\n",
       "      <td>1000</td>\n",
       "      <td>ganada</td>\n",
       "      <td>0.1</td>\n",
       "      <td>0.008327</td>\n",
       "      <td>100000.008327</td>\n",
       "    </tr>\n",
       "    <tr>\n",
       "      <th>41</th>\n",
       "      <td>2019-11-19 21:30:00</td>\n",
       "      <td>A</td>\n",
       "      <td>Buy</td>\n",
       "      <td>1000</td>\n",
       "      <td>perdida</td>\n",
       "      <td>0.0</td>\n",
       "      <td>-0.008327</td>\n",
       "      <td>99999.991673</td>\n",
       "    </tr>\n",
       "    <tr>\n",
       "      <th>42</th>\n",
       "      <td>2019-11-26 21:30:00</td>\n",
       "      <td>C</td>\n",
       "      <td>Sell</td>\n",
       "      <td>1000</td>\n",
       "      <td>ganada</td>\n",
       "      <td>0.1</td>\n",
       "      <td>0.008327</td>\n",
       "      <td>100000.008327</td>\n",
       "    </tr>\n",
       "    <tr>\n",
       "      <th>43</th>\n",
       "      <td>2019-12-03 21:30:00</td>\n",
       "      <td>C</td>\n",
       "      <td>Buy</td>\n",
       "      <td>1000</td>\n",
       "      <td>perdida</td>\n",
       "      <td>0.0</td>\n",
       "      <td>-0.008327</td>\n",
       "      <td>99999.991673</td>\n",
       "    </tr>\n",
       "    <tr>\n",
       "      <th>44</th>\n",
       "      <td>2019-12-10 21:30:00</td>\n",
       "      <td>A</td>\n",
       "      <td>Sell</td>\n",
       "      <td>1000</td>\n",
       "      <td>ganada</td>\n",
       "      <td>0.1</td>\n",
       "      <td>0.008327</td>\n",
       "      <td>100000.008327</td>\n",
       "    </tr>\n",
       "    <tr>\n",
       "      <th>45</th>\n",
       "      <td>2019-12-17 21:30:00</td>\n",
       "      <td>A</td>\n",
       "      <td>Sell</td>\n",
       "      <td>1000</td>\n",
       "      <td>ganada</td>\n",
       "      <td>0.2</td>\n",
       "      <td>0.008327</td>\n",
       "      <td>100000.008327</td>\n",
       "    </tr>\n",
       "    <tr>\n",
       "      <th>46</th>\n",
       "      <td>2020-01-07 21:30:00</td>\n",
       "      <td>A</td>\n",
       "      <td>Buy</td>\n",
       "      <td>1000</td>\n",
       "      <td>perdida</td>\n",
       "      <td>0.1</td>\n",
       "      <td>-0.008327</td>\n",
       "      <td>99999.991673</td>\n",
       "    </tr>\n",
       "    <tr>\n",
       "      <th>47</th>\n",
       "      <td>2020-01-14 21:30:00</td>\n",
       "      <td>A</td>\n",
       "      <td>Sell</td>\n",
       "      <td>1000</td>\n",
       "      <td>ganada</td>\n",
       "      <td>0.2</td>\n",
       "      <td>0.008327</td>\n",
       "      <td>100000.008327</td>\n",
       "    </tr>\n",
       "    <tr>\n",
       "      <th>48</th>\n",
       "      <td>2020-01-22 21:30:00</td>\n",
       "      <td>A</td>\n",
       "      <td>Sell</td>\n",
       "      <td>1000</td>\n",
       "      <td>ganada</td>\n",
       "      <td>0.3</td>\n",
       "      <td>0.008327</td>\n",
       "      <td>100000.008327</td>\n",
       "    </tr>\n",
       "    <tr>\n",
       "      <th>49</th>\n",
       "      <td>2020-01-28 21:30:00</td>\n",
       "      <td>C</td>\n",
       "      <td>Buy</td>\n",
       "      <td>1000</td>\n",
       "      <td>perdida</td>\n",
       "      <td>0.2</td>\n",
       "      <td>-0.008327</td>\n",
       "      <td>99999.991673</td>\n",
       "    </tr>\n",
       "  </tbody>\n",
       "</table>\n",
       "</div>"
      ],
      "text/plain": [
       "              DateTime escenario operacion  volumen resultado  pips   capital  \\\n",
       "0  2019-02-05 21:30:00         A      Sell     1000    ganada   0.1  0.008327   \n",
       "1  2019-02-12 21:30:00         C       Buy     1000   perdida   0.0 -0.008327   \n",
       "2  2019-02-20 21:30:00         A      Sell     1000    ganada   0.1  0.008327   \n",
       "3  2019-02-26 21:30:00         C      Sell     1000    ganada   0.2  0.008327   \n",
       "4  2019-03-05 21:30:00         A       Buy     1000   perdida   0.1 -0.008327   \n",
       "5  2019-03-12 20:30:00         C       Buy     1000   perdida   0.0 -0.008327   \n",
       "6  2019-03-19 20:30:00         A      Sell     1000    ganada   0.1  0.008327   \n",
       "7  2019-03-26 20:30:00         A       Buy     1000   perdida   0.0 -0.008327   \n",
       "8  2019-04-02 20:30:00         A      Sell     1000    ganada   0.1  0.008327   \n",
       "9  2019-04-09 20:30:00         A      Sell     1000    ganada   0.2  0.008327   \n",
       "10 2019-04-16 20:30:00         C       Buy     1000   perdida   0.1 -0.008327   \n",
       "11 2019-04-23 20:30:00         A       Buy     1000   perdida   0.0 -0.008327   \n",
       "12 2019-04-30 20:30:00         C      Sell     1000    ganada   0.1  0.008327   \n",
       "13 2019-05-07 20:30:00         C       Buy     1000   perdida   0.0 -0.008327   \n",
       "14 2019-05-14 20:30:00         A      Sell     1000    ganada   0.1  0.008327   \n",
       "15 2019-05-21 21:30:00         C       Buy     1000   perdida   0.0 -0.008327   \n",
       "16 2019-05-29 20:30:00         C      Sell     1000    ganada   0.1  0.008327   \n",
       "17 2019-06-04 20:30:00         A      Sell     1000    ganada   0.2  0.008327   \n",
       "18 2019-06-11 20:30:00         A       Buy     1000   perdida   0.1 -0.008327   \n",
       "19 2019-06-18 20:30:00         C      Sell     1000    ganada   0.2  0.008327   \n",
       "20 2019-06-25 20:30:00         C       Buy     1000   perdida   0.1 -0.008327   \n",
       "21 2019-07-02 20:30:00         A      Sell     1000    ganada   0.2  0.008327   \n",
       "22 2019-07-09 20:30:00         C       Buy     1000   perdida   0.1 -0.008327   \n",
       "23 2019-07-16 20:30:00         A      Sell     1000    ganada   0.2  0.008327   \n",
       "24 2019-07-23 20:30:00         C       Buy     1000   perdida   0.1 -0.008327   \n",
       "25 2019-07-30 20:30:00         A       Buy     1000   perdida   0.0 -0.008327   \n",
       "26 2019-08-06 20:30:00         A      Sell     1000    ganada   0.1  0.008327   \n",
       "27 2019-08-13 20:30:00         A       Buy     1000   perdida   0.0 -0.008327   \n",
       "28 2019-08-20 21:30:00         C      Sell     1000    ganada   0.1  0.008327   \n",
       "29 2019-08-27 20:30:00         C       Buy     1000   perdida   0.0 -0.008327   \n",
       "30 2019-09-04 20:30:00         A      Sell     1000    ganada   0.1  0.008327   \n",
       "31 2019-09-10 20:30:00         C       Buy     1000   perdida   0.0 -0.008327   \n",
       "32 2019-09-17 21:30:00         A      Sell     1000    ganada   0.1  0.008327   \n",
       "33 2019-09-24 20:30:00         A       Buy     1000   perdida   0.0 -0.008327   \n",
       "34 2019-10-01 20:30:00         C      Sell     1000    ganada   0.1  0.008327   \n",
       "35 2019-10-08 20:30:00         A       Buy     1000   perdida   0.0 -0.008327   \n",
       "36 2019-10-16 20:30:00         A       Buy     1000   perdida  -0.1 -0.008327   \n",
       "37 2019-10-22 20:30:00         C      Sell     1000    ganada   0.0  0.008327   \n",
       "38 2019-10-29 20:30:00         C      Sell     1000    ganada   0.1  0.008327   \n",
       "39 2019-11-05 21:30:00         A       Buy     1000   perdida   0.0 -0.008327   \n",
       "40 2019-11-13 21:30:00         C      Sell     1000    ganada   0.1  0.008327   \n",
       "41 2019-11-19 21:30:00         A       Buy     1000   perdida   0.0 -0.008327   \n",
       "42 2019-11-26 21:30:00         C      Sell     1000    ganada   0.1  0.008327   \n",
       "43 2019-12-03 21:30:00         C       Buy     1000   perdida   0.0 -0.008327   \n",
       "44 2019-12-10 21:30:00         A      Sell     1000    ganada   0.1  0.008327   \n",
       "45 2019-12-17 21:30:00         A      Sell     1000    ganada   0.2  0.008327   \n",
       "46 2020-01-07 21:30:00         A       Buy     1000   perdida   0.1 -0.008327   \n",
       "47 2020-01-14 21:30:00         A      Sell     1000    ganada   0.2  0.008327   \n",
       "48 2020-01-22 21:30:00         A      Sell     1000    ganada   0.3  0.008327   \n",
       "49 2020-01-28 21:30:00         C       Buy     1000   perdida   0.2 -0.008327   \n",
       "\n",
       "      capital_acm  \n",
       "0   100000.008327  \n",
       "1    99999.991673  \n",
       "2   100000.008327  \n",
       "3   100000.008327  \n",
       "4    99999.991673  \n",
       "5    99999.991673  \n",
       "6   100000.008327  \n",
       "7    99999.991673  \n",
       "8   100000.008327  \n",
       "9   100000.008327  \n",
       "10   99999.991673  \n",
       "11   99999.991673  \n",
       "12  100000.008327  \n",
       "13   99999.991673  \n",
       "14  100000.008327  \n",
       "15   99999.991673  \n",
       "16  100000.008327  \n",
       "17  100000.008327  \n",
       "18   99999.991673  \n",
       "19  100000.008327  \n",
       "20   99999.991673  \n",
       "21  100000.008327  \n",
       "22   99999.991673  \n",
       "23  100000.008327  \n",
       "24   99999.991673  \n",
       "25   99999.991673  \n",
       "26  100000.008327  \n",
       "27   99999.991673  \n",
       "28  100000.008327  \n",
       "29   99999.991673  \n",
       "30  100000.008327  \n",
       "31   99999.991673  \n",
       "32  100000.008327  \n",
       "33   99999.991673  \n",
       "34  100000.008327  \n",
       "35   99999.991673  \n",
       "36   99999.991673  \n",
       "37  100000.008327  \n",
       "38  100000.008327  \n",
       "39   99999.991673  \n",
       "40  100000.008327  \n",
       "41   99999.991673  \n",
       "42  100000.008327  \n",
       "43   99999.991673  \n",
       "44  100000.008327  \n",
       "45  100000.008327  \n",
       "46   99999.991673  \n",
       "47  100000.008327  \n",
       "48  100000.008327  \n",
       "49   99999.991673  "
      ]
     },
     "execution_count": 59,
     "metadata": {},
     "output_type": "execute_result"
    }
   ],
   "source": [
    "df_backtest"
   ]
  },
  {
   "cell_type": "markdown",
   "metadata": {},
   "source": [
    "# <font color= #6B6B6B> <font size = 6> 5. Results </font>"
   ]
  },
  {
   "cell_type": "markdown",
   "metadata": {},
   "source": [
    "<hr style=\"border:0.02in solid gray\"> </hr>"
   ]
  },
  {
   "cell_type": "code",
   "execution_count": 61,
   "metadata": {},
   "outputs": [
    {
     "data": {
      "text/plain": [
       "[<matplotlib.lines.Line2D at 0x23b9a217670>]"
      ]
     },
     "execution_count": 61,
     "metadata": {},
     "output_type": "execute_result"
    },
    {
     "data": {
      "image/png": "[encoded data removed]",
      "text/plain": [
       "<Figure size 432x288 with 1 Axes>"
      ]
     },
     "metadata": {
      "needs_background": "light"
     },
     "output_type": "display_data"
    }
   ],
   "source": [
    "plt.plot(df_backtest.capital_acm)"
   ]
  },
  {
   "cell_type": "markdown",
   "metadata": {},
   "source": [
    "<br>"
   ]
  },
  {
   "cell_type": "markdown",
   "metadata": {},
   "source": [
    "## <font color= #6B6B6B> 5.1 Results of first processes </font>"
   ]
  },
  {
   "cell_type": "code",
   "execution_count": 6,
   "metadata": {},
   "outputs": [],
   "source": [
    "# DELETE THIS CELL IN YOUR FILE\n",
    "\n",
    "# Separate your results according to the main processes you are working on"
   ]
  },
  {
   "cell_type": "markdown",
   "metadata": {},
   "source": [
    "<br>"
   ]
  },
  {
   "cell_type": "markdown",
   "metadata": {},
   "source": [
    "## <font color= #6B6B6B> 5.2 Results of another proces </font>"
   ]
  },
  {
   "cell_type": "code",
   "execution_count": 7,
   "metadata": {},
   "outputs": [],
   "source": [
    "# DELETE THIS CELL IN YOUR FILE\n",
    "\n",
    "# You can have several processes with which you are obtaining the results you need."
   ]
  },
  {
   "cell_type": "markdown",
   "metadata": {},
   "source": [
    "<br>"
   ]
  },
  {
   "cell_type": "markdown",
   "metadata": {},
   "source": [
    "# <font color= #6B6B6B> <font size = 6> 6. References </font>"
   ]
  },
  {
   "cell_type": "markdown",
   "metadata": {},
   "source": [
    "<hr style=\"border:0.02in solid gray\"> </hr>"
   ]
  },
  {
   "cell_type": "markdown",
   "metadata": {},
   "source": [
    "## Referencias\n",
    "* https://www.delftstack.com/es/howto/python-pandas/how-to-load-data-from-txt-with-pandas/ \n",
    "* https://adpemploymentreport.com/ \n",
    "* https://stackoverflow.com/questions/26266362/how-to-count-the-nan-values-in-a-column-in-pandas-dataframe \n",
    "* https://www.geeksforgeeks.org/autocorrelation-plot-using-matplotlib/ \n",
    "* https://machinelearningmastery.com/gentle-introduction-autocorrelation-partial-autocorrelation/\n",
    "* https://www.cienciadedatos.net/documentos/pystats06-analisis-normalidad-python.html"
   ]
  }
 ],
 "metadata": {
  "kernelspec": {
   "display_name": "Python 3",
   "language": "python",
   "name": "python3"
  },
  "language_info": {
   "codemirror_mode": {
    "name": "ipython",
    "version": 3
   },
   "file_extension": ".py",
   "mimetype": "text/x-python",
   "name": "python",
   "nbconvert_exporter": "python",
   "pygments_lexer": "ipython3",
   "version": "3.9.9"
  }
 },
 "nbformat": 4,
 "nbformat_minor": 4
}
